{
 "cells": [
  {
   "cell_type": "code",
   "execution_count": 1,
   "id": "9c7e16e7",
   "metadata": {},
   "outputs": [
    {
     "data": {
      "text/html": [
       "        <script type=\"text/javascript\">\n",
       "        window.PlotlyConfig = {MathJaxConfig: 'local'};\n",
       "        if (window.MathJax && window.MathJax.Hub && window.MathJax.Hub.Config) {window.MathJax.Hub.Config({SVG: {font: \"STIX-Web\"}});}\n",
       "        if (typeof require !== 'undefined') {\n",
       "        require.undef(\"plotly\");\n",
       "        requirejs.config({\n",
       "            paths: {\n",
       "                'plotly': ['https://cdn.plot.ly/plotly-2.12.1.min']\n",
       "            }\n",
       "        });\n",
       "        require(['plotly'], function(Plotly) {\n",
       "            window._Plotly = Plotly;\n",
       "        });\n",
       "        }\n",
       "        </script>\n",
       "        "
      ]
     },
     "metadata": {},
     "output_type": "display_data"
    }
   ],
   "source": [
    "import pandas as pd\n",
    "import numpy as np\n",
    "import matplotlib.pyplot as plt\n",
    "%matplotlib inline\n",
    "import seaborn as sns\n",
    "import cufflinks as cf\n",
    "cf.go_offline()"
   ]
  },
  {
   "cell_type": "code",
   "execution_count": 2,
   "id": "381a8c24",
   "metadata": {},
   "outputs": [],
   "source": [
    "dfLE = pd.read_csv('LifeExpectancy.csv')"
   ]
  },
  {
   "cell_type": "code",
   "execution_count": 3,
   "id": "67a18250",
   "metadata": {},
   "outputs": [
    {
     "data": {
      "text/html": [
       "<div>\n",
       "<style scoped>\n",
       "    .dataframe tbody tr th:only-of-type {\n",
       "        vertical-align: middle;\n",
       "    }\n",
       "\n",
       "    .dataframe tbody tr th {\n",
       "        vertical-align: top;\n",
       "    }\n",
       "\n",
       "    .dataframe thead th {\n",
       "        text-align: right;\n",
       "    }\n",
       "</style>\n",
       "<table border=\"1\" class=\"dataframe\">\n",
       "  <thead>\n",
       "    <tr style=\"text-align: right;\">\n",
       "      <th></th>\n",
       "      <th>Country</th>\n",
       "      <th>Life Expectancy (years) - Men</th>\n",
       "      <th>Life Expectancy (years) - Women</th>\n",
       "      <th>Happiness Score</th>\n",
       "      <th>Fertility Rate (births per woman)</th>\n",
       "    </tr>\n",
       "  </thead>\n",
       "  <tbody>\n",
       "    <tr>\n",
       "      <th>0</th>\n",
       "      <td>Afghanistan</td>\n",
       "      <td>60.6</td>\n",
       "      <td>68.2</td>\n",
       "      <td>3.794</td>\n",
       "      <td>4.7</td>\n",
       "    </tr>\n",
       "    <tr>\n",
       "      <th>1</th>\n",
       "      <td>Albania</td>\n",
       "      <td>74.8</td>\n",
       "      <td>81.3</td>\n",
       "      <td>4.959</td>\n",
       "      <td>1.7</td>\n",
       "    </tr>\n",
       "    <tr>\n",
       "      <th>2</th>\n",
       "      <td>Algeria</td>\n",
       "      <td>73.3</td>\n",
       "      <td>78.9</td>\n",
       "      <td>5.605</td>\n",
       "      <td>2.9</td>\n",
       "    </tr>\n",
       "    <tr>\n",
       "      <th>3</th>\n",
       "      <td>Andorra</td>\n",
       "      <td>81.7</td>\n",
       "      <td>84.8</td>\n",
       "      <td>6.955</td>\n",
       "      <td>1.4</td>\n",
       "    </tr>\n",
       "    <tr>\n",
       "      <th>4</th>\n",
       "      <td>Angola</td>\n",
       "      <td>58.1</td>\n",
       "      <td>65.6</td>\n",
       "      <td>4.105</td>\n",
       "      <td>5.3</td>\n",
       "    </tr>\n",
       "  </tbody>\n",
       "</table>\n",
       "</div>"
      ],
      "text/plain": [
       "       Country  Life Expectancy (years) - Men  \\\n",
       "0  Afghanistan                           60.6   \n",
       "1      Albania                           74.8   \n",
       "2      Algeria                           73.3   \n",
       "3      Andorra                           81.7   \n",
       "4       Angola                           58.1   \n",
       "\n",
       "   Life Expectancy (years) - Women  Happiness Score  \\\n",
       "0                             68.2            3.794   \n",
       "1                             81.3            4.959   \n",
       "2                             78.9            5.605   \n",
       "3                             84.8            6.955   \n",
       "4                             65.6            4.105   \n",
       "\n",
       "   Fertility Rate (births per woman)  \n",
       "0                                4.7  \n",
       "1                                1.7  \n",
       "2                                2.9  \n",
       "3                                1.4  \n",
       "4                                5.3  "
      ]
     },
     "execution_count": 3,
     "metadata": {},
     "output_type": "execute_result"
    }
   ],
   "source": [
    "dfLE.head()"
   ]
  },
  {
   "cell_type": "code",
   "execution_count": 4,
   "id": "5db95b0b",
   "metadata": {},
   "outputs": [
    {
     "data": {
      "text/html": [
       "<div>\n",
       "<style scoped>\n",
       "    .dataframe tbody tr th:only-of-type {\n",
       "        vertical-align: middle;\n",
       "    }\n",
       "\n",
       "    .dataframe tbody tr th {\n",
       "        vertical-align: top;\n",
       "    }\n",
       "\n",
       "    .dataframe thead th {\n",
       "        text-align: right;\n",
       "    }\n",
       "</style>\n",
       "<table border=\"1\" class=\"dataframe\">\n",
       "  <thead>\n",
       "    <tr style=\"text-align: right;\">\n",
       "      <th></th>\n",
       "      <th>Country</th>\n",
       "      <th>GDP per capita</th>\n",
       "      <th>Suicide rate</th>\n",
       "    </tr>\n",
       "  </thead>\n",
       "  <tbody>\n",
       "    <tr>\n",
       "      <th>0</th>\n",
       "      <td>Afghanistan</td>\n",
       "      <td>1,105</td>\n",
       "      <td>20.6</td>\n",
       "    </tr>\n",
       "    <tr>\n",
       "      <th>1</th>\n",
       "      <td>Albania</td>\n",
       "      <td>4,932</td>\n",
       "      <td>32.4</td>\n",
       "    </tr>\n",
       "    <tr>\n",
       "      <th>2</th>\n",
       "      <td>Algeria</td>\n",
       "      <td>4,534</td>\n",
       "      <td>15.6</td>\n",
       "    </tr>\n",
       "    <tr>\n",
       "      <th>3</th>\n",
       "      <td>Andorra</td>\n",
       "      <td>46,622</td>\n",
       "      <td>18.9</td>\n",
       "    </tr>\n",
       "    <tr>\n",
       "      <th>4</th>\n",
       "      <td>Angola</td>\n",
       "      <td>2,077</td>\n",
       "      <td>20.5</td>\n",
       "    </tr>\n",
       "  </tbody>\n",
       "</table>\n",
       "</div>"
      ],
      "text/plain": [
       "       Country GDP per capita  Suicide rate\n",
       "0  Afghanistan          1,105          20.6\n",
       "1      Albania          4,932          32.4\n",
       "2      Algeria          4,534          15.6\n",
       "3      Andorra         46,622          18.9\n",
       "4       Angola          2,077          20.5"
      ]
     },
     "execution_count": 4,
     "metadata": {},
     "output_type": "execute_result"
    }
   ],
   "source": [
    "dfSR = pd.read_csv('Suicide Rate.csv')\n",
    "dfSR.head()"
   ]
  },
  {
   "cell_type": "code",
   "execution_count": 75,
   "id": "24c83ecf",
   "metadata": {},
   "outputs": [
    {
     "name": "stdout",
     "output_type": "stream",
     "text": [
      "<class 'pandas.core.frame.DataFrame'>\n",
      "RangeIndex: 142 entries, 0 to 141\n",
      "Data columns (total 5 columns):\n",
      " #   Column                             Non-Null Count  Dtype  \n",
      "---  ------                             --------------  -----  \n",
      " 0   Country                            142 non-null    object \n",
      " 1   Life Expectancy (years) - Men      142 non-null    float64\n",
      " 2   Life Expectancy (years) - Women    142 non-null    float64\n",
      " 3   Happiness Score                    142 non-null    float64\n",
      " 4   Fertility Rate (births per woman)  142 non-null    float64\n",
      "dtypes: float64(4), object(1)\n",
      "memory usage: 5.7+ KB\n"
     ]
    }
   ],
   "source": [
    "dfLE.info()"
   ]
  },
  {
   "cell_type": "code",
   "execution_count": 76,
   "id": "f900bc01",
   "metadata": {},
   "outputs": [
    {
     "name": "stdout",
     "output_type": "stream",
     "text": [
      "<class 'pandas.core.frame.DataFrame'>\n",
      "RangeIndex: 140 entries, 0 to 139\n",
      "Data columns (total 3 columns):\n",
      " #   Column          Non-Null Count  Dtype  \n",
      "---  ------          --------------  -----  \n",
      " 0   Country         140 non-null    object \n",
      " 1   GDP per capita  140 non-null    object \n",
      " 2   Suicide rate    140 non-null    float64\n",
      "dtypes: float64(1), object(2)\n",
      "memory usage: 3.4+ KB\n"
     ]
    }
   ],
   "source": [
    "dfSR.info()"
   ]
  },
  {
   "cell_type": "code",
   "execution_count": 5,
   "id": "ca6252fa",
   "metadata": {},
   "outputs": [
    {
     "data": {
      "text/html": [
       "<div>\n",
       "<style scoped>\n",
       "    .dataframe tbody tr th:only-of-type {\n",
       "        vertical-align: middle;\n",
       "    }\n",
       "\n",
       "    .dataframe tbody tr th {\n",
       "        vertical-align: top;\n",
       "    }\n",
       "\n",
       "    .dataframe thead th {\n",
       "        text-align: right;\n",
       "    }\n",
       "</style>\n",
       "<table border=\"1\" class=\"dataframe\">\n",
       "  <thead>\n",
       "    <tr style=\"text-align: right;\">\n",
       "      <th></th>\n",
       "      <th>Country</th>\n",
       "      <th>Life Expectancy (years) - Men</th>\n",
       "      <th>Life Expectancy (years) - Women</th>\n",
       "      <th>Happiness Score</th>\n",
       "      <th>Fertility Rate (births per woman)</th>\n",
       "      <th>GDP per capita</th>\n",
       "      <th>Suicide rate</th>\n",
       "    </tr>\n",
       "  </thead>\n",
       "  <tbody>\n",
       "    <tr>\n",
       "      <th>0</th>\n",
       "      <td>Afghanistan</td>\n",
       "      <td>60.6</td>\n",
       "      <td>68.2</td>\n",
       "      <td>3.794</td>\n",
       "      <td>4.7</td>\n",
       "      <td>1,105</td>\n",
       "      <td>20.6</td>\n",
       "    </tr>\n",
       "    <tr>\n",
       "      <th>1</th>\n",
       "      <td>Albania</td>\n",
       "      <td>74.8</td>\n",
       "      <td>81.3</td>\n",
       "      <td>4.959</td>\n",
       "      <td>1.7</td>\n",
       "      <td>4,932</td>\n",
       "      <td>32.4</td>\n",
       "    </tr>\n",
       "    <tr>\n",
       "      <th>2</th>\n",
       "      <td>Algeria</td>\n",
       "      <td>73.3</td>\n",
       "      <td>78.9</td>\n",
       "      <td>5.605</td>\n",
       "      <td>2.9</td>\n",
       "      <td>4,534</td>\n",
       "      <td>15.6</td>\n",
       "    </tr>\n",
       "    <tr>\n",
       "      <th>3</th>\n",
       "      <td>Andorra</td>\n",
       "      <td>81.7</td>\n",
       "      <td>84.8</td>\n",
       "      <td>6.955</td>\n",
       "      <td>1.4</td>\n",
       "      <td>46,622</td>\n",
       "      <td>18.9</td>\n",
       "    </tr>\n",
       "    <tr>\n",
       "      <th>4</th>\n",
       "      <td>Angola</td>\n",
       "      <td>58.1</td>\n",
       "      <td>65.6</td>\n",
       "      <td>4.105</td>\n",
       "      <td>5.3</td>\n",
       "      <td>2,077</td>\n",
       "      <td>20.5</td>\n",
       "    </tr>\n",
       "  </tbody>\n",
       "</table>\n",
       "</div>"
      ],
      "text/plain": [
       "       Country  Life Expectancy (years) - Men  \\\n",
       "0  Afghanistan                           60.6   \n",
       "1      Albania                           74.8   \n",
       "2      Algeria                           73.3   \n",
       "3      Andorra                           81.7   \n",
       "4       Angola                           58.1   \n",
       "\n",
       "   Life Expectancy (years) - Women  Happiness Score  \\\n",
       "0                             68.2            3.794   \n",
       "1                             81.3            4.959   \n",
       "2                             78.9            5.605   \n",
       "3                             84.8            6.955   \n",
       "4                             65.6            4.105   \n",
       "\n",
       "   Fertility Rate (births per woman) GDP per capita  Suicide rate  \n",
       "0                                4.7          1,105          20.6  \n",
       "1                                1.7          4,932          32.4  \n",
       "2                                2.9          4,534          15.6  \n",
       "3                                1.4         46,622          18.9  \n",
       "4                                5.3          2,077          20.5  "
      ]
     },
     "execution_count": 5,
     "metadata": {},
     "output_type": "execute_result"
    }
   ],
   "source": [
    "# MERGE on 'inner' to avoid any mismatches\n",
    "\n",
    "dfN = dfLE.merge(dfSR,how='inner')\n",
    "dfN.head()"
   ]
  },
  {
   "cell_type": "code",
   "execution_count": 6,
   "id": "cf479b7e",
   "metadata": {},
   "outputs": [
    {
     "data": {
      "text/plain": [
       "Country                              0\n",
       "Life Expectancy (years) - Men        0\n",
       "Life Expectancy (years) - Women      0\n",
       "Happiness Score                      0\n",
       "Fertility Rate (births per woman)    0\n",
       "GDP per capita                       0\n",
       "Suicide rate                         0\n",
       "dtype: int64"
      ]
     },
     "execution_count": 6,
     "metadata": {},
     "output_type": "execute_result"
    }
   ],
   "source": [
    "dfN.isnull().sum()"
   ]
  },
  {
   "cell_type": "code",
   "execution_count": 7,
   "id": "512e0ce1",
   "metadata": {},
   "outputs": [
    {
     "data": {
      "text/plain": [
       "Index(['Country', 'Life Expectancy (years) - Men',\n",
       "       'Life Expectancy (years) - Women', 'Happiness Score',\n",
       "       'Fertility Rate (births per woman)', 'GDP per capita', 'Suicide rate'],\n",
       "      dtype='object')"
      ]
     },
     "execution_count": 7,
     "metadata": {},
     "output_type": "execute_result"
    }
   ],
   "source": [
    "dfN.columns"
   ]
  },
  {
   "cell_type": "code",
   "execution_count": 8,
   "id": "8d7a594b",
   "metadata": {},
   "outputs": [
    {
     "data": {
      "text/html": [
       "<div>\n",
       "<style scoped>\n",
       "    .dataframe tbody tr th:only-of-type {\n",
       "        vertical-align: middle;\n",
       "    }\n",
       "\n",
       "    .dataframe tbody tr th {\n",
       "        vertical-align: top;\n",
       "    }\n",
       "\n",
       "    .dataframe thead th {\n",
       "        text-align: right;\n",
       "    }\n",
       "</style>\n",
       "<table border=\"1\" class=\"dataframe\">\n",
       "  <thead>\n",
       "    <tr style=\"text-align: right;\">\n",
       "      <th></th>\n",
       "      <th>Country</th>\n",
       "      <th>leMen</th>\n",
       "      <th>leWm</th>\n",
       "      <th>happiness</th>\n",
       "      <th>fertilityR</th>\n",
       "      <th>GDPpc</th>\n",
       "      <th>suicide</th>\n",
       "    </tr>\n",
       "  </thead>\n",
       "  <tbody>\n",
       "    <tr>\n",
       "      <th>0</th>\n",
       "      <td>Afghanistan</td>\n",
       "      <td>60.6</td>\n",
       "      <td>68.2</td>\n",
       "      <td>3.794</td>\n",
       "      <td>4.7</td>\n",
       "      <td>1,105</td>\n",
       "      <td>20.6</td>\n",
       "    </tr>\n",
       "    <tr>\n",
       "      <th>1</th>\n",
       "      <td>Albania</td>\n",
       "      <td>74.8</td>\n",
       "      <td>81.3</td>\n",
       "      <td>4.959</td>\n",
       "      <td>1.7</td>\n",
       "      <td>4,932</td>\n",
       "      <td>32.4</td>\n",
       "    </tr>\n",
       "    <tr>\n",
       "      <th>2</th>\n",
       "      <td>Algeria</td>\n",
       "      <td>73.3</td>\n",
       "      <td>78.9</td>\n",
       "      <td>5.605</td>\n",
       "      <td>2.9</td>\n",
       "      <td>4,534</td>\n",
       "      <td>15.6</td>\n",
       "    </tr>\n",
       "    <tr>\n",
       "      <th>3</th>\n",
       "      <td>Andorra</td>\n",
       "      <td>81.7</td>\n",
       "      <td>84.8</td>\n",
       "      <td>6.955</td>\n",
       "      <td>1.4</td>\n",
       "      <td>46,622</td>\n",
       "      <td>18.9</td>\n",
       "    </tr>\n",
       "    <tr>\n",
       "      <th>4</th>\n",
       "      <td>Angola</td>\n",
       "      <td>58.1</td>\n",
       "      <td>65.6</td>\n",
       "      <td>4.105</td>\n",
       "      <td>5.3</td>\n",
       "      <td>2,077</td>\n",
       "      <td>20.5</td>\n",
       "    </tr>\n",
       "  </tbody>\n",
       "</table>\n",
       "</div>"
      ],
      "text/plain": [
       "       Country  leMen  leWm  happiness  fertilityR   GDPpc  suicide\n",
       "0  Afghanistan   60.6  68.2      3.794         4.7   1,105     20.6\n",
       "1      Albania   74.8  81.3      4.959         1.7   4,932     32.4\n",
       "2      Algeria   73.3  78.9      5.605         2.9   4,534     15.6\n",
       "3      Andorra   81.7  84.8      6.955         1.4  46,622     18.9\n",
       "4       Angola   58.1  65.6      4.105         5.3   2,077     20.5"
      ]
     },
     "execution_count": 8,
     "metadata": {},
     "output_type": "execute_result"
    }
   ],
   "source": [
    "#simplify column names\n",
    "\n",
    "dfN = dfN.rename(columns={\"Life Expectancy (years) - Men\":\"leMen\", \"Life Expectancy (years) - Women\":\"leWm\", \n",
    "                      \"Fertility Rate (births per woman)\":\"fertilityR\",\"GDP per capita\":\"GDPpc\",\n",
    "                          \"Happiness Score\":\"happiness\",'Suicide rate':'suicide'})\n",
    "dfN.head()"
   ]
  },
  {
   "cell_type": "code",
   "execution_count": 9,
   "id": "17a5ebbe",
   "metadata": {},
   "outputs": [
    {
     "data": {
      "text/plain": [
       "str"
      ]
     },
     "execution_count": 9,
     "metadata": {},
     "output_type": "execute_result"
    }
   ],
   "source": [
    "# GDP per capita column is a problem for us\n",
    "type(\"GDPpc\")"
   ]
  },
  {
   "cell_type": "code",
   "execution_count": 10,
   "id": "9bfc5cc3",
   "metadata": {},
   "outputs": [
    {
     "data": {
      "text/html": [
       "<div>\n",
       "<style scoped>\n",
       "    .dataframe tbody tr th:only-of-type {\n",
       "        vertical-align: middle;\n",
       "    }\n",
       "\n",
       "    .dataframe tbody tr th {\n",
       "        vertical-align: top;\n",
       "    }\n",
       "\n",
       "    .dataframe thead th {\n",
       "        text-align: right;\n",
       "    }\n",
       "</style>\n",
       "<table border=\"1\" class=\"dataframe\">\n",
       "  <thead>\n",
       "    <tr style=\"text-align: right;\">\n",
       "      <th></th>\n",
       "      <th>Country</th>\n",
       "      <th>leMen</th>\n",
       "      <th>leWm</th>\n",
       "      <th>happiness</th>\n",
       "      <th>fertilityR</th>\n",
       "      <th>GDPpc</th>\n",
       "      <th>suicide</th>\n",
       "    </tr>\n",
       "  </thead>\n",
       "  <tbody>\n",
       "    <tr>\n",
       "      <th>0</th>\n",
       "      <td>Afghanistan</td>\n",
       "      <td>60.6</td>\n",
       "      <td>68.2</td>\n",
       "      <td>3.794</td>\n",
       "      <td>4.7</td>\n",
       "      <td>1105</td>\n",
       "      <td>20.6</td>\n",
       "    </tr>\n",
       "    <tr>\n",
       "      <th>1</th>\n",
       "      <td>Albania</td>\n",
       "      <td>74.8</td>\n",
       "      <td>81.3</td>\n",
       "      <td>4.959</td>\n",
       "      <td>1.7</td>\n",
       "      <td>4932</td>\n",
       "      <td>32.4</td>\n",
       "    </tr>\n",
       "    <tr>\n",
       "      <th>2</th>\n",
       "      <td>Algeria</td>\n",
       "      <td>73.3</td>\n",
       "      <td>78.9</td>\n",
       "      <td>5.605</td>\n",
       "      <td>2.9</td>\n",
       "      <td>4534</td>\n",
       "      <td>15.6</td>\n",
       "    </tr>\n",
       "    <tr>\n",
       "      <th>3</th>\n",
       "      <td>Andorra</td>\n",
       "      <td>81.7</td>\n",
       "      <td>84.8</td>\n",
       "      <td>6.955</td>\n",
       "      <td>1.4</td>\n",
       "      <td>46622</td>\n",
       "      <td>18.9</td>\n",
       "    </tr>\n",
       "    <tr>\n",
       "      <th>4</th>\n",
       "      <td>Angola</td>\n",
       "      <td>58.1</td>\n",
       "      <td>65.6</td>\n",
       "      <td>4.105</td>\n",
       "      <td>5.3</td>\n",
       "      <td>2077</td>\n",
       "      <td>20.5</td>\n",
       "    </tr>\n",
       "  </tbody>\n",
       "</table>\n",
       "</div>"
      ],
      "text/plain": [
       "       Country  leMen  leWm  happiness  fertilityR  GDPpc  suicide\n",
       "0  Afghanistan   60.6  68.2      3.794         4.7   1105     20.6\n",
       "1      Albania   74.8  81.3      4.959         1.7   4932     32.4\n",
       "2      Algeria   73.3  78.9      5.605         2.9   4534     15.6\n",
       "3      Andorra   81.7  84.8      6.955         1.4  46622     18.9\n",
       "4       Angola   58.1  65.6      4.105         5.3   2077     20.5"
      ]
     },
     "execution_count": 10,
     "metadata": {},
     "output_type": "execute_result"
    }
   ],
   "source": [
    "# convert string values to integers\n",
    "\n",
    "arr1 = []\n",
    "\n",
    "for x in dfN[\"GDPpc\"]:\n",
    "    arr1.append( int( x.replace(\",\",\"\") ) )\n",
    "    \n",
    "dfN[\"GDPpc\"] = arr1\n",
    "dfN.head()"
   ]
  },
  {
   "cell_type": "code",
   "execution_count": 11,
   "id": "fed95f6a",
   "metadata": {},
   "outputs": [
    {
     "data": {
      "text/plain": [
       "<seaborn.axisgrid.FacetGrid at 0x7fe1facebd00>"
      ]
     },
     "execution_count": 11,
     "metadata": {},
     "output_type": "execute_result"
    },
    {
     "data": {
      "image/png": "[encoded data removed]",
      "text/plain": [
       "<Figure size 500x500 with 1 Axes>"
      ]
     },
     "metadata": {},
     "output_type": "display_data"
    }
   ],
   "source": [
    "# wealth - happiness relation\n",
    "\n",
    "sns.lmplot(x=\"GDPpc\",y=\"happiness\",data=dfN,markers=\"o\")"
   ]
  },
  {
   "cell_type": "code",
   "execution_count": 14,
   "id": "7860da20",
   "metadata": {},
   "outputs": [
    {
     "data": {
      "application/vnd.plotly.v1+json": {
       "config": {
        "linkText": "Export to plot.ly",
        "plotlyServerURL": "https://plot.ly",
        "showLink": true
       },
       "data": [
        {
         "line": {
          "color": "rgba(255, 153, 51, 1.0)",
          "dash": "solid",
          "shape": "linear",
          "width": 1.3
         },
         "marker": {
          "size": 12,
          "symbol": "circle"
         },
         "mode": "markers",
         "name": "fertilityR",
         "text": "",
         "type": "scatter",
         "x": [
          3.794,
          4.959,
          5.605,
          6.955,
          4.105,
          6.102,
          6.365,
          4.853,
          7.313,
          7.456,
          5.129,
          6.591,
          6.498,
          4.527,
          6.189,
          5.892,
          7.409,
          5.906,
          4.923,
          5.075,
          5.139,
          5.246,
          4.517,
          6.226,
          5.687,
          4.944,
          3.557,
          4.639,
          4.442,
          7.632,
          3.351,
          4.053,
          6.744,
          5.906,
          5.805,
          4.365,
          3.462,
          4.772,
          6.707,
          4.664,
          5.872,
          6.376,
          6.749,
          6.646,
          7.596,
          4.526,
          6.175,
          5.972,
          5.958,
          5.041,
          5.788,
          4.935,
          4.906,
          6.899,
          4.575,
          5.532,
          7.769,
          6.657,
          4.991,
          4.421,
          5.225,
          6.995,
          4.687,
          6.456,
          5.854,
          5.703,
          4.064,
          3.652,
          4.654,
          3.766,
          5.821,
          5.958,
          7.594,
          4.527,
          5.135,
          4.707,
          4.739,
          6.977,
          7.488,
          6.442,
          5.897,
          6.444,
          5.081,
          5.766,
          4.471,
          4.934,
          6.107,
          4.811,
          6.646,
          5.466,
          3.971,
          3.979,
          6.342,
          6.643,
          7.143,
          4.525,
          3.973,
          6.141,
          5.248,
          4.354,
          6.441,
          5.253,
          4.532,
          5.974,
          6.578,
          5.497,
          5.936,
          5.225,
          5.679,
          5.253,
          4.325,
          4.768,
          4.931,
          4.643,
          7.488,
          7.286,
          5.562,
          4.348,
          3.357,
          7.594,
          6.306,
          5.194,
          5.995,
          6.701,
          4.739,
          5.841,
          6.139,
          5.199,
          6.442,
          6.346,
          6.94,
          6.72
         ],
         "y": [
          4.7,
          1.7,
          2.9,
          1.4,
          5.3,
          2.2,
          2.3,
          1.8,
          1.7,
          1.5,
          2.1,
          2.1,
          2.1,
          2.2,
          1.9,
          1.5,
          1.6,
          2.5,
          5.4,
          2.2,
          3.4,
          1.5,
          3.1,
          1.8,
          1.5,
          5.5,
          6.1,
          2.5,
          4.9,
          1.6,
          5.4,
          5.5,
          1.7,
          1.6,
          1.9,
          3.9,
          5.5,
          4.9,
          1.9,
          4.9,
          1.4,
          1.7,
          1.3,
          1.5,
          1.7,
          3.7,
          2.1,
          2.2,
          2.1,
          3.4,
          2.2,
          3.9,
          4.6,
          1.6,
          4.9,
          2.3,
          1.8,
          1.9,
          4.2,
          4.4,
          1.7,
          1.5,
          4,
          1.3,
          2.1,
          2.5,
          5.5,
          5.5,
          2.5,
          3.2,
          2.5,
          1.5,
          1.9,
          2.4,
          2.2,
          1.8,
          3.9,
          1.9,
          2.5,
          1.3,
          2.3,
          1.4,
          3.2,
          2.3,
          4.3,
          3.5,
          2.3,
          2.6,
          1.4,
          1.7,
          3.4,
          5.4,
          2.8,
          1.8,
          1.6,
          4.1,
          5.4,
          2.1,
          2.3,
          6.2,
          1.3,
          3.3,
          4.8,
          1.7,
          2.2,
          2.7,
          1.5,
          1.9,
          1.5,
          2.3,
          5.2,
          2.4,
          2.9,
          2.3,
          1.7,
          2.1,
          2.3,
          7.6,
          5.7,
          1.8,
          2.5,
          3.3,
          2.5,
          2.2,
          3.9,
          2.4,
          2.2,
          2.8,
          1.3,
          1.3,
          1.7,
          1.7
         ]
        },
        {
         "line": {
          "color": "rgba(55, 128, 191, 1.0)",
          "dash": "dash",
          "shape": "linear",
          "width": 3
         },
         "mode": "lines",
         "name": "-0.98*x+8.24",
         "type": "scatter",
         "x": [
          3.794,
          4.959,
          5.605,
          6.955,
          4.105,
          6.102,
          6.365,
          4.853,
          7.313,
          7.456,
          5.129,
          6.591,
          6.498,
          4.527,
          6.189,
          5.892,
          7.409,
          5.906,
          4.923,
          5.075,
          5.139,
          5.246,
          4.517,
          6.226,
          5.687,
          4.944,
          3.557,
          4.639,
          4.442,
          7.632,
          3.351,
          4.053,
          6.744,
          5.906,
          5.805,
          4.365,
          3.462,
          4.772,
          6.707,
          4.664,
          5.872,
          6.376,
          6.749,
          6.646,
          7.596,
          4.526,
          6.175,
          5.972,
          5.958,
          5.041,
          5.788,
          4.935,
          4.906,
          6.899,
          4.575,
          5.532,
          7.769,
          6.657,
          4.991,
          4.421,
          5.225,
          6.995,
          4.687,
          6.456,
          5.854,
          5.703,
          4.064,
          3.652,
          4.654,
          3.766,
          5.821,
          5.958,
          7.594,
          4.527,
          5.135,
          4.707,
          4.739,
          6.977,
          7.488,
          6.442,
          5.897,
          6.444,
          5.081,
          5.766,
          4.471,
          4.934,
          6.107,
          4.811,
          6.646,
          5.466,
          3.971,
          3.979,
          6.342,
          6.643,
          7.143,
          4.525,
          3.973,
          6.141,
          5.248,
          4.354,
          6.441,
          5.253,
          4.532,
          5.974,
          6.578,
          5.497,
          5.936,
          5.225,
          5.679,
          5.253,
          4.325,
          4.768,
          4.931,
          4.643,
          7.488,
          7.286,
          5.562,
          4.348,
          3.357,
          7.594,
          6.306,
          5.194,
          5.995,
          6.701,
          4.739,
          5.841,
          6.139,
          5.199,
          6.442,
          6.346,
          6.94,
          6.72
         ],
         "y": [
          4.532591644257729,
          3.3937680519745808,
          2.762283038571221,
          1.4426162148954695,
          4.2285795093220555,
          2.276450141262444,
          2.019359493390798,
          3.49738633590764,
          1.0926601238762714,
          0.9528731936646908,
          3.2275877852894865,
          1.7984374917976726,
          1.8893478729842244,
          3.8160614355508216,
          2.1914049459588965,
          2.4817316471675612,
          0.9988171497482172,
          2.4680462134405543,
          3.428959167272601,
          3.2803744582365164,
          3.2178124754844806,
          3.113216660570921,
          3.8258367453558266,
          2.155236299680376,
          2.6821254981701754,
          3.408431016682089,
          4.764266486636361,
          3.706577965734759,
          3.8991515688933687,
          0.7808277410965934,
          4.965637868619476,
          4.279411120308085,
          1.6488752517810878,
          2.4680462134405543,
          2.5667768424711106,
          3.974421454391911,
          4.857131929783914,
          3.5765663453281844,
          1.6850438980596083,
          3.682139691222245,
          2.501282266777573,
          2.008606652605292,
          1.6439875968785849,
          1.7446732878701416,
          0.8160188563946136,
          3.817038966531322,
          2.2050903796859043,
          2.403529168727516,
          2.417214602454525,
          3.3136105115735353,
          2.583394869139619,
          3.4172287955065945,
          3.4455771939411104,
          1.4973579498035008,
          3.769139948486794,
          2.8336428001477616,
          0.6469059967680169,
          1.7339204470846354,
          3.3624870605985633,
          3.91967971948388,
          3.133744811161433,
          1.4035149756754475,
          3.6596564786707315,
          1.930404174165247,
          2.518877824426583,
          2.6664850024821662,
          4.268658279522579,
          4.6714010434888085,
          3.691915001027251,
          4.559962511711745,
          2.5511363467831014,
          2.417214602454525,
          0.8179739183556141,
          3.8160614355508216,
          3.2217225994064833,
          3.6401058590607214,
          3.608824867684703,
          1.4211105333244571,
          0.9215922022886733,
          1.9440896078922556,
          2.4768439922650582,
          1.9421345459312542,
          3.2745092723535123,
          2.6049005507106315,
          3.870803170458852,
          3.4182063264870948,
          2.271562486359942,
          3.5384426370886635,
          1.7446732878701416,
          2.898159844860799,
          4.35956866070913,
          4.351748412865126,
          2.0418427059423117,
          1.7476058808116441,
          1.2588403905613657,
          3.818016497511822,
          4.357613598748129,
          2.238326433022923,
          3.1112615986099197,
          3.9851742951774174,
          1.9450671388727558,
          3.1063739437074167,
          3.8111737806483186,
          2.4015741067665157,
          1.8111453945441793,
          2.8678563844652816,
          2.4387202840255373,
          3.133744811161433,
          2.68994574601418,
          3.1063739437074167,
          4.013522693611933,
          3.580476469250187,
          3.4211389194285964,
          3.702667841812757,
          0.9215922022886733,
          1.119053460349786,
          2.8043168707327446,
          3.9910394810604206,
          4.959772682736473,
          0.8179739183556141,
          2.077033821240331,
          3.1640482715569505,
          2.3810459561760045,
          1.6909090839426115,
          3.608824867684703,
          2.5315857271730895,
          2.2402814949839236,
          3.1591606166544475,
          1.9440896078922556,
          2.037932582020309,
          1.4572791796029776,
          1.6723359953131007
         ]
        }
       ],
       "layout": {
        "legend": {
         "bgcolor": "#F5F6F9",
         "font": {
          "color": "#4D5663"
         }
        },
        "paper_bgcolor": "#F5F6F9",
        "plot_bgcolor": "#F5F6F9",
        "template": {
         "data": {
          "bar": [
           {
            "error_x": {
             "color": "#2a3f5f"
            },
            "error_y": {
             "color": "#2a3f5f"
            },
            "marker": {
             "line": {
              "color": "#E5ECF6",
              "width": 0.5
             },
             "pattern": {
              "fillmode": "overlay",
              "size": 10,
              "solidity": 0.2
             }
            },
            "type": "bar"
           }
          ],
          "barpolar": [
           {
            "marker": {
             "line": {
              "color": "#E5ECF6",
              "width": 0.5
             },
             "pattern": {
              "fillmode": "overlay",
              "size": 10,
              "solidity": 0.2
             }
            },
            "type": "barpolar"
           }
          ],
          "carpet": [
           {
            "aaxis": {
             "endlinecolor": "#2a3f5f",
             "gridcolor": "white",
             "linecolor": "white",
             "minorgridcolor": "white",
             "startlinecolor": "#2a3f5f"
            },
            "baxis": {
             "endlinecolor": "#2a3f5f",
             "gridcolor": "white",
             "linecolor": "white",
             "minorgridcolor": "white",
             "startlinecolor": "#2a3f5f"
            },
            "type": "carpet"
           }
          ],
          "choropleth": [
           {
            "colorbar": {
             "outlinewidth": 0,
             "ticks": ""
            },
            "type": "choropleth"
           }
          ],
          "contour": [
           {
            "colorbar": {
             "outlinewidth": 0,
             "ticks": ""
            },
            "colorscale": [
             [
              0,
              "#0d0887"
             ],
             [
              0.1111111111111111,
              "#46039f"
             ],
             [
              0.2222222222222222,
              "#7201a8"
             ],
             [
              0.3333333333333333,
              "#9c179e"
             ],
             [
              0.4444444444444444,
              "#bd3786"
             ],
             [
              0.5555555555555556,
              "#d8576b"
             ],
             [
              0.6666666666666666,
              "#ed7953"
             ],
             [
              0.7777777777777778,
              "#fb9f3a"
             ],
             [
              0.8888888888888888,
              "#fdca26"
             ],
             [
              1,
              "#f0f921"
             ]
            ],
            "type": "contour"
           }
          ],
          "contourcarpet": [
           {
            "colorbar": {
             "outlinewidth": 0,
             "ticks": ""
            },
            "type": "contourcarpet"
           }
          ],
          "heatmap": [
           {
            "colorbar": {
             "outlinewidth": 0,
             "ticks": ""
            },
            "colorscale": [
             [
              0,
              "#0d0887"
             ],
             [
              0.1111111111111111,
              "#46039f"
             ],
             [
              0.2222222222222222,
              "#7201a8"
             ],
             [
              0.3333333333333333,
              "#9c179e"
             ],
             [
              0.4444444444444444,
              "#bd3786"
             ],
             [
              0.5555555555555556,
              "#d8576b"
             ],
             [
              0.6666666666666666,
              "#ed7953"
             ],
             [
              0.7777777777777778,
              "#fb9f3a"
             ],
             [
              0.8888888888888888,
              "#fdca26"
             ],
             [
              1,
              "#f0f921"
             ]
            ],
            "type": "heatmap"
           }
          ],
          "heatmapgl": [
           {
            "colorbar": {
             "outlinewidth": 0,
             "ticks": ""
            },
            "colorscale": [
             [
              0,
              "#0d0887"
             ],
             [
              0.1111111111111111,
              "#46039f"
             ],
             [
              0.2222222222222222,
              "#7201a8"
             ],
             [
              0.3333333333333333,
              "#9c179e"
             ],
             [
              0.4444444444444444,
              "#bd3786"
             ],
             [
              0.5555555555555556,
              "#d8576b"
             ],
             [
              0.6666666666666666,
              "#ed7953"
             ],
             [
              0.7777777777777778,
              "#fb9f3a"
             ],
             [
              0.8888888888888888,
              "#fdca26"
             ],
             [
              1,
              "#f0f921"
             ]
            ],
            "type": "heatmapgl"
           }
          ],
          "histogram": [
           {
            "marker": {
             "pattern": {
              "fillmode": "overlay",
              "size": 10,
              "solidity": 0.2
             }
            },
            "type": "histogram"
           }
          ],
          "histogram2d": [
           {
            "colorbar": {
             "outlinewidth": 0,
             "ticks": ""
            },
            "colorscale": [
             [
              0,
              "#0d0887"
             ],
             [
              0.1111111111111111,
              "#46039f"
             ],
             [
              0.2222222222222222,
              "#7201a8"
             ],
             [
              0.3333333333333333,
              "#9c179e"
             ],
             [
              0.4444444444444444,
              "#bd3786"
             ],
             [
              0.5555555555555556,
              "#d8576b"
             ],
             [
              0.6666666666666666,
              "#ed7953"
             ],
             [
              0.7777777777777778,
              "#fb9f3a"
             ],
             [
              0.8888888888888888,
              "#fdca26"
             ],
             [
              1,
              "#f0f921"
             ]
            ],
            "type": "histogram2d"
           }
          ],
          "histogram2dcontour": [
           {
            "colorbar": {
             "outlinewidth": 0,
             "ticks": ""
            },
            "colorscale": [
             [
              0,
              "#0d0887"
             ],
             [
              0.1111111111111111,
              "#46039f"
             ],
             [
              0.2222222222222222,
              "#7201a8"
             ],
             [
              0.3333333333333333,
              "#9c179e"
             ],
             [
              0.4444444444444444,
              "#bd3786"
             ],
             [
              0.5555555555555556,
              "#d8576b"
             ],
             [
              0.6666666666666666,
              "#ed7953"
             ],
             [
              0.7777777777777778,
              "#fb9f3a"
             ],
             [
              0.8888888888888888,
              "#fdca26"
             ],
             [
              1,
              "#f0f921"
             ]
            ],
            "type": "histogram2dcontour"
           }
          ],
          "mesh3d": [
           {
            "colorbar": {
             "outlinewidth": 0,
             "ticks": ""
            },
            "type": "mesh3d"
           }
          ],
          "parcoords": [
           {
            "line": {
             "colorbar": {
              "outlinewidth": 0,
              "ticks": ""
             }
            },
            "type": "parcoords"
           }
          ],
          "pie": [
           {
            "automargin": true,
            "type": "pie"
           }
          ],
          "scatter": [
           {
            "fillpattern": {
             "fillmode": "overlay",
             "size": 10,
             "solidity": 0.2
            },
            "type": "scatter"
           }
          ],
          "scatter3d": [
           {
            "line": {
             "colorbar": {
              "outlinewidth": 0,
              "ticks": ""
             }
            },
            "marker": {
             "colorbar": {
              "outlinewidth": 0,
              "ticks": ""
             }
            },
            "type": "scatter3d"
           }
          ],
          "scattercarpet": [
           {
            "marker": {
             "colorbar": {
              "outlinewidth": 0,
              "ticks": ""
             }
            },
            "type": "scattercarpet"
           }
          ],
          "scattergeo": [
           {
            "marker": {
             "colorbar": {
              "outlinewidth": 0,
              "ticks": ""
             }
            },
            "type": "scattergeo"
           }
          ],
          "scattergl": [
           {
            "marker": {
             "colorbar": {
              "outlinewidth": 0,
              "ticks": ""
             }
            },
            "type": "scattergl"
           }
          ],
          "scattermapbox": [
           {
            "marker": {
             "colorbar": {
              "outlinewidth": 0,
              "ticks": ""
             }
            },
            "type": "scattermapbox"
           }
          ],
          "scatterpolar": [
           {
            "marker": {
             "colorbar": {
              "outlinewidth": 0,
              "ticks": ""
             }
            },
            "type": "scatterpolar"
           }
          ],
          "scatterpolargl": [
           {
            "marker": {
             "colorbar": {
              "outlinewidth": 0,
              "ticks": ""
             }
            },
            "type": "scatterpolargl"
           }
          ],
          "scatterternary": [
           {
            "marker": {
             "colorbar": {
              "outlinewidth": 0,
              "ticks": ""
             }
            },
            "type": "scatterternary"
           }
          ],
          "surface": [
           {
            "colorbar": {
             "outlinewidth": 0,
             "ticks": ""
            },
            "colorscale": [
             [
              0,
              "#0d0887"
             ],
             [
              0.1111111111111111,
              "#46039f"
             ],
             [
              0.2222222222222222,
              "#7201a8"
             ],
             [
              0.3333333333333333,
              "#9c179e"
             ],
             [
              0.4444444444444444,
              "#bd3786"
             ],
             [
              0.5555555555555556,
              "#d8576b"
             ],
             [
              0.6666666666666666,
              "#ed7953"
             ],
             [
              0.7777777777777778,
              "#fb9f3a"
             ],
             [
              0.8888888888888888,
              "#fdca26"
             ],
             [
              1,
              "#f0f921"
             ]
            ],
            "type": "surface"
           }
          ],
          "table": [
           {
            "cells": {
             "fill": {
              "color": "#EBF0F8"
             },
             "line": {
              "color": "white"
             }
            },
            "header": {
             "fill": {
              "color": "#C8D4E3"
             },
             "line": {
              "color": "white"
             }
            },
            "type": "table"
           }
          ]
         },
         "layout": {
          "annotationdefaults": {
           "arrowcolor": "#2a3f5f",
           "arrowhead": 0,
           "arrowwidth": 1
          },
          "autotypenumbers": "strict",
          "coloraxis": {
           "colorbar": {
            "outlinewidth": 0,
            "ticks": ""
           }
          },
          "colorscale": {
           "diverging": [
            [
             0,
             "#8e0152"
            ],
            [
             0.1,
             "#c51b7d"
            ],
            [
             0.2,
             "#de77ae"
            ],
            [
             0.3,
             "#f1b6da"
            ],
            [
             0.4,
             "#fde0ef"
            ],
            [
             0.5,
             "#f7f7f7"
            ],
            [
             0.6,
             "#e6f5d0"
            ],
            [
             0.7,
             "#b8e186"
            ],
            [
             0.8,
             "#7fbc41"
            ],
            [
             0.9,
             "#4d9221"
            ],
            [
             1,
             "#276419"
            ]
           ],
           "sequential": [
            [
             0,
             "#0d0887"
            ],
            [
             0.1111111111111111,
             "#46039f"
            ],
            [
             0.2222222222222222,
             "#7201a8"
            ],
            [
             0.3333333333333333,
             "#9c179e"
            ],
            [
             0.4444444444444444,
             "#bd3786"
            ],
            [
             0.5555555555555556,
             "#d8576b"
            ],
            [
             0.6666666666666666,
             "#ed7953"
            ],
            [
             0.7777777777777778,
             "#fb9f3a"
            ],
            [
             0.8888888888888888,
             "#fdca26"
            ],
            [
             1,
             "#f0f921"
            ]
           ],
           "sequentialminus": [
            [
             0,
             "#0d0887"
            ],
            [
             0.1111111111111111,
             "#46039f"
            ],
            [
             0.2222222222222222,
             "#7201a8"
            ],
            [
             0.3333333333333333,
             "#9c179e"
            ],
            [
             0.4444444444444444,
             "#bd3786"
            ],
            [
             0.5555555555555556,
             "#d8576b"
            ],
            [
             0.6666666666666666,
             "#ed7953"
            ],
            [
             0.7777777777777778,
             "#fb9f3a"
            ],
            [
             0.8888888888888888,
             "#fdca26"
            ],
            [
             1,
             "#f0f921"
            ]
           ]
          },
          "colorway": [
           "#636efa",
           "#EF553B",
           "#00cc96",
           "#ab63fa",
           "#FFA15A",
           "#19d3f3",
           "#FF6692",
           "#B6E880",
           "#FF97FF",
           "#FECB52"
          ],
          "font": {
           "color": "#2a3f5f"
          },
          "geo": {
           "bgcolor": "white",
           "lakecolor": "white",
           "landcolor": "#E5ECF6",
           "showlakes": true,
           "showland": true,
           "subunitcolor": "white"
          },
          "hoverlabel": {
           "align": "left"
          },
          "hovermode": "closest",
          "mapbox": {
           "style": "light"
          },
          "paper_bgcolor": "white",
          "plot_bgcolor": "#E5ECF6",
          "polar": {
           "angularaxis": {
            "gridcolor": "white",
            "linecolor": "white",
            "ticks": ""
           },
           "bgcolor": "#E5ECF6",
           "radialaxis": {
            "gridcolor": "white",
            "linecolor": "white",
            "ticks": ""
           }
          },
          "scene": {
           "xaxis": {
            "backgroundcolor": "#E5ECF6",
            "gridcolor": "white",
            "gridwidth": 2,
            "linecolor": "white",
            "showbackground": true,
            "ticks": "",
            "zerolinecolor": "white"
           },
           "yaxis": {
            "backgroundcolor": "#E5ECF6",
            "gridcolor": "white",
            "gridwidth": 2,
            "linecolor": "white",
            "showbackground": true,
            "ticks": "",
            "zerolinecolor": "white"
           },
           "zaxis": {
            "backgroundcolor": "#E5ECF6",
            "gridcolor": "white",
            "gridwidth": 2,
            "linecolor": "white",
            "showbackground": true,
            "ticks": "",
            "zerolinecolor": "white"
           }
          },
          "shapedefaults": {
           "line": {
            "color": "#2a3f5f"
           }
          },
          "ternary": {
           "aaxis": {
            "gridcolor": "white",
            "linecolor": "white",
            "ticks": ""
           },
           "baxis": {
            "gridcolor": "white",
            "linecolor": "white",
            "ticks": ""
           },
           "bgcolor": "#E5ECF6",
           "caxis": {
            "gridcolor": "white",
            "linecolor": "white",
            "ticks": ""
           }
          },
          "title": {
           "x": 0.05
          },
          "xaxis": {
           "automargin": true,
           "gridcolor": "white",
           "linecolor": "white",
           "ticks": "",
           "title": {
            "standoff": 15
           },
           "zerolinecolor": "white",
           "zerolinewidth": 2
          },
          "yaxis": {
           "automargin": true,
           "gridcolor": "white",
           "linecolor": "white",
           "ticks": "",
           "title": {
            "standoff": 15
           },
           "zerolinecolor": "white",
           "zerolinewidth": 2
          }
         }
        },
        "title": {
         "font": {
          "color": "#4D5663"
         }
        },
        "xaxis": {
         "gridcolor": "#E1E5ED",
         "showgrid": true,
         "tickfont": {
          "color": "#4D5663"
         },
         "title": {
          "font": {
           "color": "#4D5663"
          },
          "text": ""
         },
         "zerolinecolor": "#E1E5ED"
        },
        "yaxis": {
         "gridcolor": "#E1E5ED",
         "showgrid": true,
         "tickfont": {
          "color": "#4D5663"
         },
         "title": {
          "font": {
           "color": "#4D5663"
          },
          "text": ""
         },
         "zerolinecolor": "#E1E5ED"
        }
       }
      },
      "text/html": [
       "<div>                            <div id=\"23ce9a21-64ea-4005-9a86-56cb68e8de02\" class=\"plotly-graph-div\" style=\"height:525px; width:100%;\"></div>            <script type=\"text/javascript\">                require([\"plotly\"], function(Plotly) {                    window.PLOTLYENV=window.PLOTLYENV || {};\n",
       "                    window.PLOTLYENV.BASE_URL='https://plot.ly';                                    if (document.getElementById(\"23ce9a21-64ea-4005-9a86-56cb68e8de02\")) {                    Plotly.newPlot(                        \"23ce9a21-64ea-4005-9a86-56cb68e8de02\",                        [{\"line\":{\"color\":\"rgba(255, 153, 51, 1.0)\",\"dash\":\"solid\",\"shape\":\"linear\",\"width\":1.3},\"marker\":{\"size\":12,\"symbol\":\"circle\"},\"mode\":\"markers\",\"name\":\"fertilityR\",\"text\":\"\",\"x\":[3.794,4.959,5.605,6.955,4.105,6.102,6.365,4.853,7.313,7.456,5.129,6.591,6.498,4.527,6.189,5.892,7.409,5.906,4.923,5.075,5.139,5.246,4.517,6.226,5.687,4.944,3.557,4.639,4.442,7.632,3.351,4.053,6.744,5.906,5.805,4.365,3.462,4.772,6.707,4.664,5.872,6.376,6.749,6.646,7.596,4.526,6.175,5.972,5.958,5.041,5.788,4.935,4.906,6.899,4.575,5.532,7.769,6.657,4.991,4.421,5.225,6.995,4.687,6.456,5.854,5.703,4.064,3.652,4.654,3.766,5.821,5.958,7.594,4.527,5.135,4.707,4.739,6.977,7.488,6.442,5.897,6.444,5.081,5.766,4.471,4.934,6.107,4.811,6.646,5.466,3.971,3.979,6.342,6.643,7.143,4.525,3.973,6.141,5.248,4.354,6.441,5.253,4.532,5.974,6.578,5.497,5.936,5.225,5.679,5.253,4.325,4.768,4.931,4.643,7.488,7.286,5.562,4.348,3.357,7.594,6.306,5.194,5.995,6.701,4.739,5.841,6.139,5.199,6.442,6.346,6.94,6.72],\"y\":[4.7,1.7,2.9,1.4,5.3,2.2,2.3,1.8,1.7,1.5,2.1,2.1,2.1,2.2,1.9,1.5,1.6,2.5,5.4,2.2,3.4,1.5,3.1,1.8,1.5,5.5,6.1,2.5,4.9,1.6,5.4,5.5,1.7,1.6,1.9,3.9,5.5,4.9,1.9,4.9,1.4,1.7,1.3,1.5,1.7,3.7,2.1,2.2,2.1,3.4,2.2,3.9,4.6,1.6,4.9,2.3,1.8,1.9,4.2,4.4,1.7,1.5,4.0,1.3,2.1,2.5,5.5,5.5,2.5,3.2,2.5,1.5,1.9,2.4,2.2,1.8,3.9,1.9,2.5,1.3,2.3,1.4,3.2,2.3,4.3,3.5,2.3,2.6,1.4,1.7,3.4,5.4,2.8,1.8,1.6,4.1,5.4,2.1,2.3,6.2,1.3,3.3,4.8,1.7,2.2,2.7,1.5,1.9,1.5,2.3,5.2,2.4,2.9,2.3,1.7,2.1,2.3,7.6,5.7,1.8,2.5,3.3,2.5,2.2,3.9,2.4,2.2,2.8,1.3,1.3,1.7,1.7],\"type\":\"scatter\"},{\"line\":{\"color\":\"rgba(55, 128, 191, 1.0)\",\"dash\":\"dash\",\"shape\":\"linear\",\"width\":3},\"mode\":\"lines\",\"name\":\"-0.98*x+8.24\",\"x\":[3.794,4.959,5.605,6.955,4.105,6.102,6.365,4.853,7.313,7.456,5.129,6.591,6.498,4.527,6.189,5.892,7.409,5.906,4.923,5.075,5.139,5.246,4.517,6.226,5.687,4.944,3.557,4.639,4.442,7.632,3.351,4.053,6.744,5.906,5.805,4.365,3.462,4.772,6.707,4.664,5.872,6.376,6.749,6.646,7.596,4.526,6.175,5.972,5.958,5.041,5.788,4.935,4.906,6.899,4.575,5.532,7.769,6.657,4.991,4.421,5.225,6.995,4.687,6.456,5.854,5.703,4.064,3.652,4.654,3.766,5.821,5.958,7.594,4.527,5.135,4.707,4.739,6.977,7.488,6.442,5.897,6.444,5.081,5.766,4.471,4.934,6.107,4.811,6.646,5.466,3.971,3.979,6.342,6.643,7.143,4.525,3.973,6.141,5.248,4.354,6.441,5.253,4.532,5.974,6.578,5.497,5.936,5.225,5.679,5.253,4.325,4.768,4.931,4.643,7.488,7.286,5.562,4.348,3.357,7.594,6.306,5.194,5.995,6.701,4.739,5.841,6.139,5.199,6.442,6.346,6.94,6.72],\"y\":[4.532591644257729,3.3937680519745808,2.762283038571221,1.4426162148954695,4.2285795093220555,2.276450141262444,2.019359493390798,3.49738633590764,1.0926601238762714,0.9528731936646908,3.2275877852894865,1.7984374917976726,1.8893478729842244,3.8160614355508216,2.1914049459588965,2.4817316471675612,0.9988171497482172,2.4680462134405543,3.428959167272601,3.2803744582365164,3.2178124754844806,3.113216660570921,3.8258367453558266,2.155236299680376,2.6821254981701754,3.408431016682089,4.764266486636361,3.706577965734759,3.8991515688933687,0.7808277410965934,4.965637868619476,4.279411120308085,1.6488752517810878,2.4680462134405543,2.5667768424711106,3.974421454391911,4.857131929783914,3.5765663453281844,1.6850438980596083,3.682139691222245,2.501282266777573,2.008606652605292,1.6439875968785849,1.7446732878701416,0.8160188563946136,3.817038966531322,2.2050903796859043,2.403529168727516,2.417214602454525,3.3136105115735353,2.583394869139619,3.4172287955065945,3.4455771939411104,1.4973579498035008,3.769139948486794,2.8336428001477616,0.6469059967680169,1.7339204470846354,3.3624870605985633,3.91967971948388,3.133744811161433,1.4035149756754475,3.6596564786707315,1.930404174165247,2.518877824426583,2.6664850024821662,4.268658279522579,4.6714010434888085,3.691915001027251,4.559962511711745,2.5511363467831014,2.417214602454525,0.8179739183556141,3.8160614355508216,3.2217225994064833,3.6401058590607214,3.608824867684703,1.4211105333244571,0.9215922022886733,1.9440896078922556,2.4768439922650582,1.9421345459312542,3.2745092723535123,2.6049005507106315,3.870803170458852,3.4182063264870948,2.271562486359942,3.5384426370886635,1.7446732878701416,2.898159844860799,4.35956866070913,4.351748412865126,2.0418427059423117,1.7476058808116441,1.2588403905613657,3.818016497511822,4.357613598748129,2.238326433022923,3.1112615986099197,3.9851742951774174,1.9450671388727558,3.1063739437074167,3.8111737806483186,2.4015741067665157,1.8111453945441793,2.8678563844652816,2.4387202840255373,3.133744811161433,2.68994574601418,3.1063739437074167,4.013522693611933,3.580476469250187,3.4211389194285964,3.702667841812757,0.9215922022886733,1.119053460349786,2.8043168707327446,3.9910394810604206,4.959772682736473,0.8179739183556141,2.077033821240331,3.1640482715569505,2.3810459561760045,1.6909090839426115,3.608824867684703,2.5315857271730895,2.2402814949839236,3.1591606166544475,1.9440896078922556,2.037932582020309,1.4572791796029776,1.6723359953131007],\"type\":\"scatter\"}],                        {\"legend\":{\"bgcolor\":\"#F5F6F9\",\"font\":{\"color\":\"#4D5663\"}},\"paper_bgcolor\":\"#F5F6F9\",\"plot_bgcolor\":\"#F5F6F9\",\"template\":{\"data\":{\"barpolar\":[{\"marker\":{\"line\":{\"color\":\"#E5ECF6\",\"width\":0.5},\"pattern\":{\"fillmode\":\"overlay\",\"size\":10,\"solidity\":0.2}},\"type\":\"barpolar\"}],\"bar\":[{\"error_x\":{\"color\":\"#2a3f5f\"},\"error_y\":{\"color\":\"#2a3f5f\"},\"marker\":{\"line\":{\"color\":\"#E5ECF6\",\"width\":0.5},\"pattern\":{\"fillmode\":\"overlay\",\"size\":10,\"solidity\":0.2}},\"type\":\"bar\"}],\"carpet\":[{\"aaxis\":{\"endlinecolor\":\"#2a3f5f\",\"gridcolor\":\"white\",\"linecolor\":\"white\",\"minorgridcolor\":\"white\",\"startlinecolor\":\"#2a3f5f\"},\"baxis\":{\"endlinecolor\":\"#2a3f5f\",\"gridcolor\":\"white\",\"linecolor\":\"white\",\"minorgridcolor\":\"white\",\"startlinecolor\":\"#2a3f5f\"},\"type\":\"carpet\"}],\"choropleth\":[{\"colorbar\":{\"outlinewidth\":0,\"ticks\":\"\"},\"type\":\"choropleth\"}],\"contourcarpet\":[{\"colorbar\":{\"outlinewidth\":0,\"ticks\":\"\"},\"type\":\"contourcarpet\"}],\"contour\":[{\"colorbar\":{\"outlinewidth\":0,\"ticks\":\"\"},\"colorscale\":[[0.0,\"#0d0887\"],[0.1111111111111111,\"#46039f\"],[0.2222222222222222,\"#7201a8\"],[0.3333333333333333,\"#9c179e\"],[0.4444444444444444,\"#bd3786\"],[0.5555555555555556,\"#d8576b\"],[0.6666666666666666,\"#ed7953\"],[0.7777777777777778,\"#fb9f3a\"],[0.8888888888888888,\"#fdca26\"],[1.0,\"#f0f921\"]],\"type\":\"contour\"}],\"heatmapgl\":[{\"colorbar\":{\"outlinewidth\":0,\"ticks\":\"\"},\"colorscale\":[[0.0,\"#0d0887\"],[0.1111111111111111,\"#46039f\"],[0.2222222222222222,\"#7201a8\"],[0.3333333333333333,\"#9c179e\"],[0.4444444444444444,\"#bd3786\"],[0.5555555555555556,\"#d8576b\"],[0.6666666666666666,\"#ed7953\"],[0.7777777777777778,\"#fb9f3a\"],[0.8888888888888888,\"#fdca26\"],[1.0,\"#f0f921\"]],\"type\":\"heatmapgl\"}],\"heatmap\":[{\"colorbar\":{\"outlinewidth\":0,\"ticks\":\"\"},\"colorscale\":[[0.0,\"#0d0887\"],[0.1111111111111111,\"#46039f\"],[0.2222222222222222,\"#7201a8\"],[0.3333333333333333,\"#9c179e\"],[0.4444444444444444,\"#bd3786\"],[0.5555555555555556,\"#d8576b\"],[0.6666666666666666,\"#ed7953\"],[0.7777777777777778,\"#fb9f3a\"],[0.8888888888888888,\"#fdca26\"],[1.0,\"#f0f921\"]],\"type\":\"heatmap\"}],\"histogram2dcontour\":[{\"colorbar\":{\"outlinewidth\":0,\"ticks\":\"\"},\"colorscale\":[[0.0,\"#0d0887\"],[0.1111111111111111,\"#46039f\"],[0.2222222222222222,\"#7201a8\"],[0.3333333333333333,\"#9c179e\"],[0.4444444444444444,\"#bd3786\"],[0.5555555555555556,\"#d8576b\"],[0.6666666666666666,\"#ed7953\"],[0.7777777777777778,\"#fb9f3a\"],[0.8888888888888888,\"#fdca26\"],[1.0,\"#f0f921\"]],\"type\":\"histogram2dcontour\"}],\"histogram2d\":[{\"colorbar\":{\"outlinewidth\":0,\"ticks\":\"\"},\"colorscale\":[[0.0,\"#0d0887\"],[0.1111111111111111,\"#46039f\"],[0.2222222222222222,\"#7201a8\"],[0.3333333333333333,\"#9c179e\"],[0.4444444444444444,\"#bd3786\"],[0.5555555555555556,\"#d8576b\"],[0.6666666666666666,\"#ed7953\"],[0.7777777777777778,\"#fb9f3a\"],[0.8888888888888888,\"#fdca26\"],[1.0,\"#f0f921\"]],\"type\":\"histogram2d\"}],\"histogram\":[{\"marker\":{\"pattern\":{\"fillmode\":\"overlay\",\"size\":10,\"solidity\":0.2}},\"type\":\"histogram\"}],\"mesh3d\":[{\"colorbar\":{\"outlinewidth\":0,\"ticks\":\"\"},\"type\":\"mesh3d\"}],\"parcoords\":[{\"line\":{\"colorbar\":{\"outlinewidth\":0,\"ticks\":\"\"}},\"type\":\"parcoords\"}],\"pie\":[{\"automargin\":true,\"type\":\"pie\"}],\"scatter3d\":[{\"line\":{\"colorbar\":{\"outlinewidth\":0,\"ticks\":\"\"}},\"marker\":{\"colorbar\":{\"outlinewidth\":0,\"ticks\":\"\"}},\"type\":\"scatter3d\"}],\"scattercarpet\":[{\"marker\":{\"colorbar\":{\"outlinewidth\":0,\"ticks\":\"\"}},\"type\":\"scattercarpet\"}],\"scattergeo\":[{\"marker\":{\"colorbar\":{\"outlinewidth\":0,\"ticks\":\"\"}},\"type\":\"scattergeo\"}],\"scattergl\":[{\"marker\":{\"colorbar\":{\"outlinewidth\":0,\"ticks\":\"\"}},\"type\":\"scattergl\"}],\"scattermapbox\":[{\"marker\":{\"colorbar\":{\"outlinewidth\":0,\"ticks\":\"\"}},\"type\":\"scattermapbox\"}],\"scatterpolargl\":[{\"marker\":{\"colorbar\":{\"outlinewidth\":0,\"ticks\":\"\"}},\"type\":\"scatterpolargl\"}],\"scatterpolar\":[{\"marker\":{\"colorbar\":{\"outlinewidth\":0,\"ticks\":\"\"}},\"type\":\"scatterpolar\"}],\"scatter\":[{\"fillpattern\":{\"fillmode\":\"overlay\",\"size\":10,\"solidity\":0.2},\"type\":\"scatter\"}],\"scatterternary\":[{\"marker\":{\"colorbar\":{\"outlinewidth\":0,\"ticks\":\"\"}},\"type\":\"scatterternary\"}],\"surface\":[{\"colorbar\":{\"outlinewidth\":0,\"ticks\":\"\"},\"colorscale\":[[0.0,\"#0d0887\"],[0.1111111111111111,\"#46039f\"],[0.2222222222222222,\"#7201a8\"],[0.3333333333333333,\"#9c179e\"],[0.4444444444444444,\"#bd3786\"],[0.5555555555555556,\"#d8576b\"],[0.6666666666666666,\"#ed7953\"],[0.7777777777777778,\"#fb9f3a\"],[0.8888888888888888,\"#fdca26\"],[1.0,\"#f0f921\"]],\"type\":\"surface\"}],\"table\":[{\"cells\":{\"fill\":{\"color\":\"#EBF0F8\"},\"line\":{\"color\":\"white\"}},\"header\":{\"fill\":{\"color\":\"#C8D4E3\"},\"line\":{\"color\":\"white\"}},\"type\":\"table\"}]},\"layout\":{\"annotationdefaults\":{\"arrowcolor\":\"#2a3f5f\",\"arrowhead\":0,\"arrowwidth\":1},\"autotypenumbers\":\"strict\",\"coloraxis\":{\"colorbar\":{\"outlinewidth\":0,\"ticks\":\"\"}},\"colorscale\":{\"diverging\":[[0,\"#8e0152\"],[0.1,\"#c51b7d\"],[0.2,\"#de77ae\"],[0.3,\"#f1b6da\"],[0.4,\"#fde0ef\"],[0.5,\"#f7f7f7\"],[0.6,\"#e6f5d0\"],[0.7,\"#b8e186\"],[0.8,\"#7fbc41\"],[0.9,\"#4d9221\"],[1,\"#276419\"]],\"sequential\":[[0.0,\"#0d0887\"],[0.1111111111111111,\"#46039f\"],[0.2222222222222222,\"#7201a8\"],[0.3333333333333333,\"#9c179e\"],[0.4444444444444444,\"#bd3786\"],[0.5555555555555556,\"#d8576b\"],[0.6666666666666666,\"#ed7953\"],[0.7777777777777778,\"#fb9f3a\"],[0.8888888888888888,\"#fdca26\"],[1.0,\"#f0f921\"]],\"sequentialminus\":[[0.0,\"#0d0887\"],[0.1111111111111111,\"#46039f\"],[0.2222222222222222,\"#7201a8\"],[0.3333333333333333,\"#9c179e\"],[0.4444444444444444,\"#bd3786\"],[0.5555555555555556,\"#d8576b\"],[0.6666666666666666,\"#ed7953\"],[0.7777777777777778,\"#fb9f3a\"],[0.8888888888888888,\"#fdca26\"],[1.0,\"#f0f921\"]]},\"colorway\":[\"#636efa\",\"#EF553B\",\"#00cc96\",\"#ab63fa\",\"#FFA15A\",\"#19d3f3\",\"#FF6692\",\"#B6E880\",\"#FF97FF\",\"#FECB52\"],\"font\":{\"color\":\"#2a3f5f\"},\"geo\":{\"bgcolor\":\"white\",\"lakecolor\":\"white\",\"landcolor\":\"#E5ECF6\",\"showlakes\":true,\"showland\":true,\"subunitcolor\":\"white\"},\"hoverlabel\":{\"align\":\"left\"},\"hovermode\":\"closest\",\"mapbox\":{\"style\":\"light\"},\"paper_bgcolor\":\"white\",\"plot_bgcolor\":\"#E5ECF6\",\"polar\":{\"angularaxis\":{\"gridcolor\":\"white\",\"linecolor\":\"white\",\"ticks\":\"\"},\"bgcolor\":\"#E5ECF6\",\"radialaxis\":{\"gridcolor\":\"white\",\"linecolor\":\"white\",\"ticks\":\"\"}},\"scene\":{\"xaxis\":{\"backgroundcolor\":\"#E5ECF6\",\"gridcolor\":\"white\",\"gridwidth\":2,\"linecolor\":\"white\",\"showbackground\":true,\"ticks\":\"\",\"zerolinecolor\":\"white\"},\"yaxis\":{\"backgroundcolor\":\"#E5ECF6\",\"gridcolor\":\"white\",\"gridwidth\":2,\"linecolor\":\"white\",\"showbackground\":true,\"ticks\":\"\",\"zerolinecolor\":\"white\"},\"zaxis\":{\"backgroundcolor\":\"#E5ECF6\",\"gridcolor\":\"white\",\"gridwidth\":2,\"linecolor\":\"white\",\"showbackground\":true,\"ticks\":\"\",\"zerolinecolor\":\"white\"}},\"shapedefaults\":{\"line\":{\"color\":\"#2a3f5f\"}},\"ternary\":{\"aaxis\":{\"gridcolor\":\"white\",\"linecolor\":\"white\",\"ticks\":\"\"},\"baxis\":{\"gridcolor\":\"white\",\"linecolor\":\"white\",\"ticks\":\"\"},\"bgcolor\":\"#E5ECF6\",\"caxis\":{\"gridcolor\":\"white\",\"linecolor\":\"white\",\"ticks\":\"\"}},\"title\":{\"x\":0.05},\"xaxis\":{\"automargin\":true,\"gridcolor\":\"white\",\"linecolor\":\"white\",\"ticks\":\"\",\"title\":{\"standoff\":15},\"zerolinecolor\":\"white\",\"zerolinewidth\":2},\"yaxis\":{\"automargin\":true,\"gridcolor\":\"white\",\"linecolor\":\"white\",\"ticks\":\"\",\"title\":{\"standoff\":15},\"zerolinecolor\":\"white\",\"zerolinewidth\":2}}},\"title\":{\"font\":{\"color\":\"#4D5663\"}},\"xaxis\":{\"gridcolor\":\"#E1E5ED\",\"showgrid\":true,\"tickfont\":{\"color\":\"#4D5663\"},\"title\":{\"font\":{\"color\":\"#4D5663\"},\"text\":\"\"},\"zerolinecolor\":\"#E1E5ED\"},\"yaxis\":{\"gridcolor\":\"#E1E5ED\",\"showgrid\":true,\"tickfont\":{\"color\":\"#4D5663\"},\"title\":{\"font\":{\"color\":\"#4D5663\"},\"text\":\"\"},\"zerolinecolor\":\"#E1E5ED\"}},                        {\"showLink\": true, \"linkText\": \"Export to plot.ly\", \"plotlyServerURL\": \"https://plot.ly\", \"responsive\": true}                    ).then(function(){\n",
       "                            \n",
       "var gd = document.getElementById('23ce9a21-64ea-4005-9a86-56cb68e8de02');\n",
       "var x = new MutationObserver(function (mutations, observer) {{\n",
       "        var display = window.getComputedStyle(gd).display;\n",
       "        if (!display || display === 'none') {{\n",
       "            console.log([gd, 'removed!']);\n",
       "            Plotly.purge(gd);\n",
       "            observer.disconnect();\n",
       "        }}\n",
       "}});\n",
       "\n",
       "// Listen for the removal of the full notebook cells\n",
       "var notebookContainer = gd.closest('#notebook-container');\n",
       "if (notebookContainer) {{\n",
       "    x.observe(notebookContainer, {childList: true});\n",
       "}}\n",
       "\n",
       "// Listen for the clearing of the current output cell\n",
       "var outputEl = gd.closest('.output');\n",
       "if (outputEl) {{\n",
       "    x.observe(outputEl, {childList: true});\n",
       "}}\n",
       "\n",
       "                        })                };                });            </script>        </div>"
      ]
     },
     "metadata": {},
     "output_type": "display_data"
    }
   ],
   "source": [
    "# wealth - fertility rate relation\n",
    "\n",
    "dfN.iplot(x='happiness', y='fertilityR', kind='scatter',mode='markers', bestfit=True,bestfit_colors=['blue'])"
   ]
  },
  {
   "cell_type": "code",
   "execution_count": 15,
   "id": "4185d68c",
   "metadata": {},
   "outputs": [
    {
     "data": {
      "text/html": [
       "<div>\n",
       "<style scoped>\n",
       "    .dataframe tbody tr th:only-of-type {\n",
       "        vertical-align: middle;\n",
       "    }\n",
       "\n",
       "    .dataframe tbody tr th {\n",
       "        vertical-align: top;\n",
       "    }\n",
       "\n",
       "    .dataframe thead th {\n",
       "        text-align: right;\n",
       "    }\n",
       "</style>\n",
       "<table border=\"1\" class=\"dataframe\">\n",
       "  <thead>\n",
       "    <tr style=\"text-align: right;\">\n",
       "      <th></th>\n",
       "      <th>leMen</th>\n",
       "      <th>leWm</th>\n",
       "      <th>happiness</th>\n",
       "      <th>fertilityR</th>\n",
       "      <th>GDPpc</th>\n",
       "      <th>suicide</th>\n",
       "    </tr>\n",
       "  </thead>\n",
       "  <tbody>\n",
       "    <tr>\n",
       "      <th>count</th>\n",
       "      <td>132.000000</td>\n",
       "      <td>132.000000</td>\n",
       "      <td>132.000000</td>\n",
       "      <td>132.000000</td>\n",
       "      <td>132.000000</td>\n",
       "      <td>132.000000</td>\n",
       "    </tr>\n",
       "    <tr>\n",
       "      <th>mean</th>\n",
       "      <td>71.946970</td>\n",
       "      <td>76.862879</td>\n",
       "      <td>5.579591</td>\n",
       "      <td>2.787121</td>\n",
       "      <td>15267.136364</td>\n",
       "      <td>15.846970</td>\n",
       "    </tr>\n",
       "    <tr>\n",
       "      <th>std</th>\n",
       "      <td>6.825686</td>\n",
       "      <td>6.324862</td>\n",
       "      <td>1.081534</td>\n",
       "      <td>1.396036</td>\n",
       "      <td>20845.448772</td>\n",
       "      <td>5.450589</td>\n",
       "    </tr>\n",
       "    <tr>\n",
       "      <th>min</th>\n",
       "      <td>52.900000</td>\n",
       "      <td>55.600000</td>\n",
       "      <td>3.351000</td>\n",
       "      <td>1.300000</td>\n",
       "      <td>463.000000</td>\n",
       "      <td>9.600000</td>\n",
       "    </tr>\n",
       "    <tr>\n",
       "      <th>25%</th>\n",
       "      <td>66.650000</td>\n",
       "      <td>72.000000</td>\n",
       "      <td>4.731000</td>\n",
       "      <td>1.700000</td>\n",
       "      <td>2161.750000</td>\n",
       "      <td>12.500000</td>\n",
       "    </tr>\n",
       "    <tr>\n",
       "      <th>50%</th>\n",
       "      <td>73.400000</td>\n",
       "      <td>78.300000</td>\n",
       "      <td>5.642000</td>\n",
       "      <td>2.300000</td>\n",
       "      <td>5811.500000</td>\n",
       "      <td>14.350000</td>\n",
       "    </tr>\n",
       "    <tr>\n",
       "      <th>75%</th>\n",
       "      <td>76.425000</td>\n",
       "      <td>81.500000</td>\n",
       "      <td>6.441250</td>\n",
       "      <td>3.425000</td>\n",
       "      <td>19373.250000</td>\n",
       "      <td>17.600000</td>\n",
       "    </tr>\n",
       "    <tr>\n",
       "      <th>max</th>\n",
       "      <td>84.000000</td>\n",
       "      <td>89.500000</td>\n",
       "      <td>7.769000</td>\n",
       "      <td>7.600000</td>\n",
       "      <td>118287.000000</td>\n",
       "      <td>39.700000</td>\n",
       "    </tr>\n",
       "  </tbody>\n",
       "</table>\n",
       "</div>"
      ],
      "text/plain": [
       "            leMen        leWm   happiness  fertilityR          GDPpc  \\\n",
       "count  132.000000  132.000000  132.000000  132.000000     132.000000   \n",
       "mean    71.946970   76.862879    5.579591    2.787121   15267.136364   \n",
       "std      6.825686    6.324862    1.081534    1.396036   20845.448772   \n",
       "min     52.900000   55.600000    3.351000    1.300000     463.000000   \n",
       "25%     66.650000   72.000000    4.731000    1.700000    2161.750000   \n",
       "50%     73.400000   78.300000    5.642000    2.300000    5811.500000   \n",
       "75%     76.425000   81.500000    6.441250    3.425000   19373.250000   \n",
       "max     84.000000   89.500000    7.769000    7.600000  118287.000000   \n",
       "\n",
       "          suicide  \n",
       "count  132.000000  \n",
       "mean    15.846970  \n",
       "std      5.450589  \n",
       "min      9.600000  \n",
       "25%     12.500000  \n",
       "50%     14.350000  \n",
       "75%     17.600000  \n",
       "max     39.700000  "
      ]
     },
     "execution_count": 15,
     "metadata": {},
     "output_type": "execute_result"
    }
   ],
   "source": [
    "#check stats of our features\n",
    "dfN.describe()"
   ]
  },
  {
   "cell_type": "code",
   "execution_count": 16,
   "id": "f66af626",
   "metadata": {},
   "outputs": [
    {
     "data": {
      "text/html": [
       "<div>\n",
       "<style scoped>\n",
       "    .dataframe tbody tr th:only-of-type {\n",
       "        vertical-align: middle;\n",
       "    }\n",
       "\n",
       "    .dataframe tbody tr th {\n",
       "        vertical-align: top;\n",
       "    }\n",
       "\n",
       "    .dataframe thead th {\n",
       "        text-align: right;\n",
       "    }\n",
       "</style>\n",
       "<table border=\"1\" class=\"dataframe\">\n",
       "  <thead>\n",
       "    <tr style=\"text-align: right;\">\n",
       "      <th></th>\n",
       "      <th>Country</th>\n",
       "      <th>leMen</th>\n",
       "      <th>leWm</th>\n",
       "      <th>happiness</th>\n",
       "      <th>fertilityR</th>\n",
       "      <th>GDPpc</th>\n",
       "      <th>suicide</th>\n",
       "    </tr>\n",
       "  </thead>\n",
       "  <tbody>\n",
       "    <tr>\n",
       "      <th>9</th>\n",
       "      <td>Austria</td>\n",
       "      <td>81.2</td>\n",
       "      <td>84.2</td>\n",
       "      <td>7.456</td>\n",
       "      <td>1.5</td>\n",
       "      <td>61906</td>\n",
       "      <td>11.5</td>\n",
       "    </tr>\n",
       "  </tbody>\n",
       "</table>\n",
       "</div>"
      ],
      "text/plain": [
       "   Country  leMen  leWm  happiness  fertilityR  GDPpc  suicide\n",
       "9  Austria   81.2  84.2      7.456         1.5  61906     11.5"
      ]
     },
     "execution_count": 16,
     "metadata": {},
     "output_type": "execute_result"
    }
   ],
   "source": [
    "# curious about the stats of my favorite\n",
    "\n",
    "dfN[dfN['Country']=='Austria']"
   ]
  },
  {
   "cell_type": "code",
   "execution_count": 17,
   "id": "8bb3096f",
   "metadata": {},
   "outputs": [
    {
     "data": {
      "text/plain": [
       "<AxesSubplot:xlabel='leMen', ylabel='Count'>"
      ]
     },
     "execution_count": 17,
     "metadata": {},
     "output_type": "execute_result"
    },
    {
     "data": {
      "image/png": "[encoded data removed]",
      "text/plain": [
       "<Figure size 640x480 with 1 Axes>"
      ]
     },
     "metadata": {},
     "output_type": "display_data"
    }
   ],
   "source": [
    "# compare life expectancy of men vs women\n",
    "\n",
    "sns.histplot(dfN.leMen,bins=10, color='blue',alpha=0.2)\n",
    "sns.histplot(dfN.leWm, bins=10, color='red', alpha=0.6)"
   ]
  },
  {
   "cell_type": "code",
   "execution_count": 18,
   "id": "4d9f214a",
   "metadata": {},
   "outputs": [
    {
     "data": {
      "application/vnd.plotly.v1+json": {
       "config": {
        "linkText": "Export to plot.ly",
        "plotlyServerURL": "https://plot.ly",
        "showLink": true
       },
       "data": [
        {
         "line": {
          "color": "rgba(255, 153, 51, 1.0)",
          "dash": "solid",
          "shape": "linear",
          "width": 1.3
         },
         "marker": {
          "size": 12,
          "symbol": "circle"
         },
         "mode": "markers",
         "name": "suicide",
         "text": "",
         "type": "scatter",
         "x": [
          1105,
          4932,
          4534,
          46622,
          2077,
          14447,
          14647,
          3456,
          59542,
          61906,
          6441,
          22986,
          34734,
          1573,
          21743,
          8749,
          45532,
          4246,
          1578,
          3906,
          3005,
          5632,
          8779,
          9581,
          7386,
          1302,
          463,
          1387,
          2038,
          54087,
          751,
          1053,
          19266,
          10097,
          6486,
          1107,
          764,
          1856,
          10918,
          2315,
          13931,
          7623,
          30902,
          22982,
          60069,
          1599,
          9719,
          10743,
          6755,
          5311,
          5012,
          16758,
          556,
          21179,
          793,
          4638,
          43966,
          43828,
          9829,
          1064,
          4361,
          50746,
          2045,
          24362,
          8917,
          4543,
          976,
          675,
          3936,
          879,
          2939,
          15421,
          73181,
          2190,
          4541,
          5716,
          4119,
          75638,
          41260,
          33362,
          5399,
          41672,
          5907,
          11420,
          1631,
          3623,
          70976,
          2398,
          19945,
          6620,
          2303,
          647,
          6971,
          21140,
          118287,
          1266,
          806,
          10906,
          8828,
          1078,
          29097,
          4970,
          1757,
          13931,
          9481,
          3914,
          2547,
          4927,
          7658,
          4067,
          1065,
          1495,
          5647,
          1184,
          53582,
          43144,
          2942,
          947,
          2009,
          75588,
          19695,
          1626,
          14947,
          11978,
          2939,
          4527,
          6927,
          3150,
          18746,
          24027,
          65112,
          39720
         ],
         "y": [
          20.6,
          32.4,
          15.6,
          18.9,
          20.5,
          18.8,
          18.5,
          39.7,
          10.7,
          11.5,
          21.1,
          18.5,
          14.3,
          10.9,
          15.4,
          31.4,
          15.2,
          21.9,
          12.5,
          14.3,
          19.3,
          28.1,
          20.4,
          18.6,
          25.3,
          13.7,
          15.8,
          15.5,
          11.5,
          10.1,
          14.5,
          15.5,
          17.1,
          16.1,
          15.4,
          15.3,
          13.8,
          13.2,
          12.1,
          10.4,
          17.4,
          15,
          14.1,
          18.6,
          11.3,
          14.4,
          15.2,
          11.5,
          13.5,
          12.1,
          14.3,
          14.4,
          13.1,
          24.6,
          14,
          18.2,
          16.6,
          14.3,
          14.6,
          12.2,
          28.2,
          12.5,
          10.3,
          18.5,
          16.5,
          14.4,
          13.4,
          12.5,
          25.6,
          10.8,
          12.9,
          18.5,
          14.6,
          10.5,
          13.4,
          12.1,
          11.9,
          10.8,
          12.9,
          10.6,
          14.1,
          18.5,
          14.3,
          22.7,
          10.2,
          16,
          10.7,
          14.3,
          33.2,
          16.7,
          18.3,
          13.3,
          14.9,
          27.4,
          14,
          11.9,
          10.3,
          14.1,
          15.5,
          12.9,
          14.5,
          16.3,
          12.7,
          13.4,
          10.6,
          15.8,
          29.5,
          32.1,
          22,
          13.1,
          10.9,
          11.2,
          21.6,
          15.3,
          10.7,
          12.8,
          14.4,
          12.7,
          10.7,
          11.1,
          12.9,
          9.6,
          15.9,
          10.5,
          15.9,
          15,
          12.7,
          11.3,
          20.3,
          13.2,
          14,
          11.1
         ]
        },
        {
         "line": {
          "color": "rgba(55, 128, 191, 1.0)",
          "dash": "dash",
          "shape": "linear",
          "width": 3
         },
         "mode": "lines",
         "name": "-0.00*x+16.46",
         "type": "scatter",
         "x": [
          1105,
          4932,
          4534,
          46622,
          2077,
          14447,
          14647,
          3456,
          59542,
          61906,
          6441,
          22986,
          34734,
          1573,
          21743,
          8749,
          45532,
          4246,
          1578,
          3906,
          3005,
          5632,
          8779,
          9581,
          7386,
          1302,
          463,
          1387,
          2038,
          54087,
          751,
          1053,
          19266,
          10097,
          6486,
          1107,
          764,
          1856,
          10918,
          2315,
          13931,
          7623,
          30902,
          22982,
          60069,
          1599,
          9719,
          10743,
          6755,
          5311,
          5012,
          16758,
          556,
          21179,
          793,
          4638,
          43966,
          43828,
          9829,
          1064,
          4361,
          50746,
          2045,
          24362,
          8917,
          4543,
          976,
          675,
          3936,
          879,
          2939,
          15421,
          73181,
          2190,
          4541,
          5716,
          4119,
          75638,
          41260,
          33362,
          5399,
          41672,
          5907,
          11420,
          1631,
          3623,
          70976,
          2398,
          19945,
          6620,
          2303,
          647,
          6971,
          21140,
          118287,
          1266,
          806,
          10906,
          8828,
          1078,
          29097,
          4970,
          1757,
          13931,
          9481,
          3914,
          2547,
          4927,
          7658,
          4067,
          1065,
          1495,
          5647,
          1184,
          53582,
          43144,
          2942,
          947,
          2009,
          75588,
          19695,
          1626,
          14947,
          11978,
          2939,
          4527,
          6927,
          3150,
          18746,
          24027,
          65112,
          39720
         ],
         "y": [
          16.42001112662867,
          16.265159521263826,
          16.28126376451839,
          14.578260271809883,
          16.38068116571552,
          15.880154811296107,
          15.872062226746076,
          16.324882795243056,
          14.055479309877887,
          13.95982496049652,
          16.204100970833846,
          15.534641913932537,
          15.05928349746372,
          16.401074478781595,
          15.584937326910978,
          16.110712545126486,
          14.622364857607552,
          16.292917086270432,
          16.400872164167847,
          16.306674480005487,
          16.343131573403376,
          16.23683547533872,
          16.109498657443982,
          16.07704739339836,
          16.16586350883495,
          16.412039930846888,
          16.445988323034268,
          16.408600582413126,
          16.382259219702775,
          14.27620455347998,
          16.434335001282225,
          16.422115198611678,
          15.685163986563111,
          16.056168525259277,
          16.202280139310087,
          16.419930200783167,
          16.43380898328647,
          16.389623471643304,
          16.022948465681402,
          16.371050990100983,
          15.901033679435187,
          16.15627379614316,
          15.214337417442314,
          15.534803765623538,
          14.034155349588556,
          16.400022442790092,
          16.071463510058837,
          16.030029477162678,
          16.191395613090297,
          16.249824073541518,
          16.261922487443815,
          15.786644996820499,
          16.442225271218504,
          15.607758415342065,
          16.432635558526716,
          16.27705562055237,
          14.685729794634295,
          14.691313677973815,
          16.06701258855632,
          16.421670106461427,
          16.288263850154166,
          14.411391178388246,
          16.381975979243524,
          15.478964932228324,
          16.10391477410446,
          16.280899598213637,
          16.42523084366344,
          16.437410183411234,
          16.30546059232298,
          16.429155747170203,
          16.345802126304886,
          15.840743924537456,
          13.503605506488528,
          16.376108855444752,
          16.28098052405914,
          16.233436589827708,
          16.298055877459703,
          13.404188105291398,
          14.795222463596213,
          15.114798627476933,
          16.246263336339506,
          14.778551739423149,
          16.225708171582426,
          16.002636078460824,
          16.398727629262087,
          16.318125487143778,
          13.59282625115262,
          16.36769256751272,
          15.657689662015757,
          16.196858107661566,
          16.371536545173985,
          16.43854314524824,
          16.182655621776263,
          15.609336469329323,
          11.678484912920057,
          16.413496596065894,
          16.432109540530966,
          16.023434020754404,
          16.107515974229226,
          16.421103625542923,
          15.287372993006342,
          16.26362193019932,
          16.393629300995567,
          15.901033679435187,
          16.081093685673373,
          16.306350776623486,
          16.361663592022946,
          16.265361835877577,
          16.154857593846906,
          16.300159949442712,
          16.421629643538676,
          16.404230586756107,
          16.236228531497467,
          16.416814555731406,
          14.296638329468808,
          14.71899031713492,
          16.345680737536636,
          16.426404268423195,
          16.38343264446253,
          13.406211251428907,
          15.667805392703295,
          16.39892994387584,
          15.85992334992103,
          15.980057767566239,
          16.345802126304886,
          16.28154700497764,
          16.18443599037727,
          16.337264449604604,
          15.706204706393192,
          15.492520011349626,
          13.830100830159525,
          14.85753536463145
         ]
        }
       ],
       "layout": {
        "legend": {
         "bgcolor": "#F5F6F9",
         "font": {
          "color": "#4D5663"
         }
        },
        "paper_bgcolor": "#F5F6F9",
        "plot_bgcolor": "#F5F6F9",
        "template": {
         "data": {
          "bar": [
           {
            "error_x": {
             "color": "#2a3f5f"
            },
            "error_y": {
             "color": "#2a3f5f"
            },
            "marker": {
             "line": {
              "color": "#E5ECF6",
              "width": 0.5
             },
             "pattern": {
              "fillmode": "overlay",
              "size": 10,
              "solidity": 0.2
             }
            },
            "type": "bar"
           }
          ],
          "barpolar": [
           {
            "marker": {
             "line": {
              "color": "#E5ECF6",
              "width": 0.5
             },
             "pattern": {
              "fillmode": "overlay",
              "size": 10,
              "solidity": 0.2
             }
            },
            "type": "barpolar"
           }
          ],
          "carpet": [
           {
            "aaxis": {
             "endlinecolor": "#2a3f5f",
             "gridcolor": "white",
             "linecolor": "white",
             "minorgridcolor": "white",
             "startlinecolor": "#2a3f5f"
            },
            "baxis": {
             "endlinecolor": "#2a3f5f",
             "gridcolor": "white",
             "linecolor": "white",
             "minorgridcolor": "white",
             "startlinecolor": "#2a3f5f"
            },
            "type": "carpet"
           }
          ],
          "choropleth": [
           {
            "colorbar": {
             "outlinewidth": 0,
             "ticks": ""
            },
            "type": "choropleth"
           }
          ],
          "contour": [
           {
            "colorbar": {
             "outlinewidth": 0,
             "ticks": ""
            },
            "colorscale": [
             [
              0,
              "#0d0887"
             ],
             [
              0.1111111111111111,
              "#46039f"
             ],
             [
              0.2222222222222222,
              "#7201a8"
             ],
             [
              0.3333333333333333,
              "#9c179e"
             ],
             [
              0.4444444444444444,
              "#bd3786"
             ],
             [
              0.5555555555555556,
              "#d8576b"
             ],
             [
              0.6666666666666666,
              "#ed7953"
             ],
             [
              0.7777777777777778,
              "#fb9f3a"
             ],
             [
              0.8888888888888888,
              "#fdca26"
             ],
             [
              1,
              "#f0f921"
             ]
            ],
            "type": "contour"
           }
          ],
          "contourcarpet": [
           {
            "colorbar": {
             "outlinewidth": 0,
             "ticks": ""
            },
            "type": "contourcarpet"
           }
          ],
          "heatmap": [
           {
            "colorbar": {
             "outlinewidth": 0,
             "ticks": ""
            },
            "colorscale": [
             [
              0,
              "#0d0887"
             ],
             [
              0.1111111111111111,
              "#46039f"
             ],
             [
              0.2222222222222222,
              "#7201a8"
             ],
             [
              0.3333333333333333,
              "#9c179e"
             ],
             [
              0.4444444444444444,
              "#bd3786"
             ],
             [
              0.5555555555555556,
              "#d8576b"
             ],
             [
              0.6666666666666666,
              "#ed7953"
             ],
             [
              0.7777777777777778,
              "#fb9f3a"
             ],
             [
              0.8888888888888888,
              "#fdca26"
             ],
             [
              1,
              "#f0f921"
             ]
            ],
            "type": "heatmap"
           }
          ],
          "heatmapgl": [
           {
            "colorbar": {
             "outlinewidth": 0,
             "ticks": ""
            },
            "colorscale": [
             [
              0,
              "#0d0887"
             ],
             [
              0.1111111111111111,
              "#46039f"
             ],
             [
              0.2222222222222222,
              "#7201a8"
             ],
             [
              0.3333333333333333,
              "#9c179e"
             ],
             [
              0.4444444444444444,
              "#bd3786"
             ],
             [
              0.5555555555555556,
              "#d8576b"
             ],
             [
              0.6666666666666666,
              "#ed7953"
             ],
             [
              0.7777777777777778,
              "#fb9f3a"
             ],
             [
              0.8888888888888888,
              "#fdca26"
             ],
             [
              1,
              "#f0f921"
             ]
            ],
            "type": "heatmapgl"
           }
          ],
          "histogram": [
           {
            "marker": {
             "pattern": {
              "fillmode": "overlay",
              "size": 10,
              "solidity": 0.2
             }
            },
            "type": "histogram"
           }
          ],
          "histogram2d": [
           {
            "colorbar": {
             "outlinewidth": 0,
             "ticks": ""
            },
            "colorscale": [
             [
              0,
              "#0d0887"
             ],
             [
              0.1111111111111111,
              "#46039f"
             ],
             [
              0.2222222222222222,
              "#7201a8"
             ],
             [
              0.3333333333333333,
              "#9c179e"
             ],
             [
              0.4444444444444444,
              "#bd3786"
             ],
             [
              0.5555555555555556,
              "#d8576b"
             ],
             [
              0.6666666666666666,
              "#ed7953"
             ],
             [
              0.7777777777777778,
              "#fb9f3a"
             ],
             [
              0.8888888888888888,
              "#fdca26"
             ],
             [
              1,
              "#f0f921"
             ]
            ],
            "type": "histogram2d"
           }
          ],
          "histogram2dcontour": [
           {
            "colorbar": {
             "outlinewidth": 0,
             "ticks": ""
            },
            "colorscale": [
             [
              0,
              "#0d0887"
             ],
             [
              0.1111111111111111,
              "#46039f"
             ],
             [
              0.2222222222222222,
              "#7201a8"
             ],
             [
              0.3333333333333333,
              "#9c179e"
             ],
             [
              0.4444444444444444,
              "#bd3786"
             ],
             [
              0.5555555555555556,
              "#d8576b"
             ],
             [
              0.6666666666666666,
              "#ed7953"
             ],
             [
              0.7777777777777778,
              "#fb9f3a"
             ],
             [
              0.8888888888888888,
              "#fdca26"
             ],
             [
              1,
              "#f0f921"
             ]
            ],
            "type": "histogram2dcontour"
           }
          ],
          "mesh3d": [
           {
            "colorbar": {
             "outlinewidth": 0,
             "ticks": ""
            },
            "type": "mesh3d"
           }
          ],
          "parcoords": [
           {
            "line": {
             "colorbar": {
              "outlinewidth": 0,
              "ticks": ""
             }
            },
            "type": "parcoords"
           }
          ],
          "pie": [
           {
            "automargin": true,
            "type": "pie"
           }
          ],
          "scatter": [
           {
            "fillpattern": {
             "fillmode": "overlay",
             "size": 10,
             "solidity": 0.2
            },
            "type": "scatter"
           }
          ],
          "scatter3d": [
           {
            "line": {
             "colorbar": {
              "outlinewidth": 0,
              "ticks": ""
             }
            },
            "marker": {
             "colorbar": {
              "outlinewidth": 0,
              "ticks": ""
             }
            },
            "type": "scatter3d"
           }
          ],
          "scattercarpet": [
           {
            "marker": {
             "colorbar": {
              "outlinewidth": 0,
              "ticks": ""
             }
            },
            "type": "scattercarpet"
           }
          ],
          "scattergeo": [
           {
            "marker": {
             "colorbar": {
              "outlinewidth": 0,
              "ticks": ""
             }
            },
            "type": "scattergeo"
           }
          ],
          "scattergl": [
           {
            "marker": {
             "colorbar": {
              "outlinewidth": 0,
              "ticks": ""
             }
            },
            "type": "scattergl"
           }
          ],
          "scattermapbox": [
           {
            "marker": {
             "colorbar": {
              "outlinewidth": 0,
              "ticks": ""
             }
            },
            "type": "scattermapbox"
           }
          ],
          "scatterpolar": [
           {
            "marker": {
             "colorbar": {
              "outlinewidth": 0,
              "ticks": ""
             }
            },
            "type": "scatterpolar"
           }
          ],
          "scatterpolargl": [
           {
            "marker": {
             "colorbar": {
              "outlinewidth": 0,
              "ticks": ""
             }
            },
            "type": "scatterpolargl"
           }
          ],
          "scatterternary": [
           {
            "marker": {
             "colorbar": {
              "outlinewidth": 0,
              "ticks": ""
             }
            },
            "type": "scatterternary"
           }
          ],
          "surface": [
           {
            "colorbar": {
             "outlinewidth": 0,
             "ticks": ""
            },
            "colorscale": [
             [
              0,
              "#0d0887"
             ],
             [
              0.1111111111111111,
              "#46039f"
             ],
             [
              0.2222222222222222,
              "#7201a8"
             ],
             [
              0.3333333333333333,
              "#9c179e"
             ],
             [
              0.4444444444444444,
              "#bd3786"
             ],
             [
              0.5555555555555556,
              "#d8576b"
             ],
             [
              0.6666666666666666,
              "#ed7953"
             ],
             [
              0.7777777777777778,
              "#fb9f3a"
             ],
             [
              0.8888888888888888,
              "#fdca26"
             ],
             [
              1,
              "#f0f921"
             ]
            ],
            "type": "surface"
           }
          ],
          "table": [
           {
            "cells": {
             "fill": {
              "color": "#EBF0F8"
             },
             "line": {
              "color": "white"
             }
            },
            "header": {
             "fill": {
              "color": "#C8D4E3"
             },
             "line": {
              "color": "white"
             }
            },
            "type": "table"
           }
          ]
         },
         "layout": {
          "annotationdefaults": {
           "arrowcolor": "#2a3f5f",
           "arrowhead": 0,
           "arrowwidth": 1
          },
          "autotypenumbers": "strict",
          "coloraxis": {
           "colorbar": {
            "outlinewidth": 0,
            "ticks": ""
           }
          },
          "colorscale": {
           "diverging": [
            [
             0,
             "#8e0152"
            ],
            [
             0.1,
             "#c51b7d"
            ],
            [
             0.2,
             "#de77ae"
            ],
            [
             0.3,
             "#f1b6da"
            ],
            [
             0.4,
             "#fde0ef"
            ],
            [
             0.5,
             "#f7f7f7"
            ],
            [
             0.6,
             "#e6f5d0"
            ],
            [
             0.7,
             "#b8e186"
            ],
            [
             0.8,
             "#7fbc41"
            ],
            [
             0.9,
             "#4d9221"
            ],
            [
             1,
             "#276419"
            ]
           ],
           "sequential": [
            [
             0,
             "#0d0887"
            ],
            [
             0.1111111111111111,
             "#46039f"
            ],
            [
             0.2222222222222222,
             "#7201a8"
            ],
            [
             0.3333333333333333,
             "#9c179e"
            ],
            [
             0.4444444444444444,
             "#bd3786"
            ],
            [
             0.5555555555555556,
             "#d8576b"
            ],
            [
             0.6666666666666666,
             "#ed7953"
            ],
            [
             0.7777777777777778,
             "#fb9f3a"
            ],
            [
             0.8888888888888888,
             "#fdca26"
            ],
            [
             1,
             "#f0f921"
            ]
           ],
           "sequentialminus": [
            [
             0,
             "#0d0887"
            ],
            [
             0.1111111111111111,
             "#46039f"
            ],
            [
             0.2222222222222222,
             "#7201a8"
            ],
            [
             0.3333333333333333,
             "#9c179e"
            ],
            [
             0.4444444444444444,
             "#bd3786"
            ],
            [
             0.5555555555555556,
             "#d8576b"
            ],
            [
             0.6666666666666666,
             "#ed7953"
            ],
            [
             0.7777777777777778,
             "#fb9f3a"
            ],
            [
             0.8888888888888888,
             "#fdca26"
            ],
            [
             1,
             "#f0f921"
            ]
           ]
          },
          "colorway": [
           "#636efa",
           "#EF553B",
           "#00cc96",
           "#ab63fa",
           "#FFA15A",
           "#19d3f3",
           "#FF6692",
           "#B6E880",
           "#FF97FF",
           "#FECB52"
          ],
          "font": {
           "color": "#2a3f5f"
          },
          "geo": {
           "bgcolor": "white",
           "lakecolor": "white",
           "landcolor": "#E5ECF6",
           "showlakes": true,
           "showland": true,
           "subunitcolor": "white"
          },
          "hoverlabel": {
           "align": "left"
          },
          "hovermode": "closest",
          "mapbox": {
           "style": "light"
          },
          "paper_bgcolor": "white",
          "plot_bgcolor": "#E5ECF6",
          "polar": {
           "angularaxis": {
            "gridcolor": "white",
            "linecolor": "white",
            "ticks": ""
           },
           "bgcolor": "#E5ECF6",
           "radialaxis": {
            "gridcolor": "white",
            "linecolor": "white",
            "ticks": ""
           }
          },
          "scene": {
           "xaxis": {
            "backgroundcolor": "#E5ECF6",
            "gridcolor": "white",
            "gridwidth": 2,
            "linecolor": "white",
            "showbackground": true,
            "ticks": "",
            "zerolinecolor": "white"
           },
           "yaxis": {
            "backgroundcolor": "#E5ECF6",
            "gridcolor": "white",
            "gridwidth": 2,
            "linecolor": "white",
            "showbackground": true,
            "ticks": "",
            "zerolinecolor": "white"
           },
           "zaxis": {
            "backgroundcolor": "#E5ECF6",
            "gridcolor": "white",
            "gridwidth": 2,
            "linecolor": "white",
            "showbackground": true,
            "ticks": "",
            "zerolinecolor": "white"
           }
          },
          "shapedefaults": {
           "line": {
            "color": "#2a3f5f"
           }
          },
          "ternary": {
           "aaxis": {
            "gridcolor": "white",
            "linecolor": "white",
            "ticks": ""
           },
           "baxis": {
            "gridcolor": "white",
            "linecolor": "white",
            "ticks": ""
           },
           "bgcolor": "#E5ECF6",
           "caxis": {
            "gridcolor": "white",
            "linecolor": "white",
            "ticks": ""
           }
          },
          "title": {
           "x": 0.05
          },
          "xaxis": {
           "automargin": true,
           "gridcolor": "white",
           "linecolor": "white",
           "ticks": "",
           "title": {
            "standoff": 15
           },
           "zerolinecolor": "white",
           "zerolinewidth": 2
          },
          "yaxis": {
           "automargin": true,
           "gridcolor": "white",
           "linecolor": "white",
           "ticks": "",
           "title": {
            "standoff": 15
           },
           "zerolinecolor": "white",
           "zerolinewidth": 2
          }
         }
        },
        "title": {
         "font": {
          "color": "#4D5663"
         }
        },
        "xaxis": {
         "gridcolor": "#E1E5ED",
         "showgrid": true,
         "tickfont": {
          "color": "#4D5663"
         },
         "title": {
          "font": {
           "color": "#4D5663"
          },
          "text": ""
         },
         "zerolinecolor": "#E1E5ED"
        },
        "yaxis": {
         "gridcolor": "#E1E5ED",
         "showgrid": true,
         "tickfont": {
          "color": "#4D5663"
         },
         "title": {
          "font": {
           "color": "#4D5663"
          },
          "text": ""
         },
         "zerolinecolor": "#E1E5ED"
        }
       }
      },
      "text/html": [
       "<div>                            <div id=\"7bb7f2aa-d399-4e30-b1c9-568acac4d15d\" class=\"plotly-graph-div\" style=\"height:525px; width:100%;\"></div>            <script type=\"text/javascript\">                require([\"plotly\"], function(Plotly) {                    window.PLOTLYENV=window.PLOTLYENV || {};\n",
       "                    window.PLOTLYENV.BASE_URL='https://plot.ly';                                    if (document.getElementById(\"7bb7f2aa-d399-4e30-b1c9-568acac4d15d\")) {                    Plotly.newPlot(                        \"7bb7f2aa-d399-4e30-b1c9-568acac4d15d\",                        [{\"line\":{\"color\":\"rgba(255, 153, 51, 1.0)\",\"dash\":\"solid\",\"shape\":\"linear\",\"width\":1.3},\"marker\":{\"size\":12,\"symbol\":\"circle\"},\"mode\":\"markers\",\"name\":\"suicide\",\"text\":\"\",\"x\":[1105,4932,4534,46622,2077,14447,14647,3456,59542,61906,6441,22986,34734,1573,21743,8749,45532,4246,1578,3906,3005,5632,8779,9581,7386,1302,463,1387,2038,54087,751,1053,19266,10097,6486,1107,764,1856,10918,2315,13931,7623,30902,22982,60069,1599,9719,10743,6755,5311,5012,16758,556,21179,793,4638,43966,43828,9829,1064,4361,50746,2045,24362,8917,4543,976,675,3936,879,2939,15421,73181,2190,4541,5716,4119,75638,41260,33362,5399,41672,5907,11420,1631,3623,70976,2398,19945,6620,2303,647,6971,21140,118287,1266,806,10906,8828,1078,29097,4970,1757,13931,9481,3914,2547,4927,7658,4067,1065,1495,5647,1184,53582,43144,2942,947,2009,75588,19695,1626,14947,11978,2939,4527,6927,3150,18746,24027,65112,39720],\"y\":[20.6,32.4,15.6,18.9,20.5,18.8,18.5,39.7,10.7,11.5,21.1,18.5,14.3,10.9,15.4,31.4,15.2,21.9,12.5,14.3,19.3,28.1,20.4,18.6,25.3,13.7,15.8,15.5,11.5,10.1,14.5,15.5,17.1,16.1,15.4,15.3,13.8,13.2,12.1,10.4,17.4,15.0,14.1,18.6,11.3,14.4,15.2,11.5,13.5,12.1,14.3,14.4,13.1,24.6,14.0,18.2,16.6,14.3,14.6,12.2,28.2,12.5,10.3,18.5,16.5,14.4,13.4,12.5,25.6,10.8,12.9,18.5,14.6,10.5,13.4,12.1,11.9,10.8,12.9,10.6,14.1,18.5,14.3,22.7,10.2,16.0,10.7,14.3,33.2,16.7,18.3,13.3,14.9,27.4,14.0,11.9,10.3,14.1,15.5,12.9,14.5,16.3,12.7,13.4,10.6,15.8,29.5,32.1,22.0,13.1,10.9,11.2,21.6,15.3,10.7,12.8,14.4,12.7,10.7,11.1,12.9,9.6,15.9,10.5,15.9,15.0,12.7,11.3,20.3,13.2,14.0,11.1],\"type\":\"scatter\"},{\"line\":{\"color\":\"rgba(55, 128, 191, 1.0)\",\"dash\":\"dash\",\"shape\":\"linear\",\"width\":3},\"mode\":\"lines\",\"name\":\"-0.00*x+16.46\",\"x\":[1105,4932,4534,46622,2077,14447,14647,3456,59542,61906,6441,22986,34734,1573,21743,8749,45532,4246,1578,3906,3005,5632,8779,9581,7386,1302,463,1387,2038,54087,751,1053,19266,10097,6486,1107,764,1856,10918,2315,13931,7623,30902,22982,60069,1599,9719,10743,6755,5311,5012,16758,556,21179,793,4638,43966,43828,9829,1064,4361,50746,2045,24362,8917,4543,976,675,3936,879,2939,15421,73181,2190,4541,5716,4119,75638,41260,33362,5399,41672,5907,11420,1631,3623,70976,2398,19945,6620,2303,647,6971,21140,118287,1266,806,10906,8828,1078,29097,4970,1757,13931,9481,3914,2547,4927,7658,4067,1065,1495,5647,1184,53582,43144,2942,947,2009,75588,19695,1626,14947,11978,2939,4527,6927,3150,18746,24027,65112,39720],\"y\":[16.42001112662867,16.265159521263826,16.28126376451839,14.578260271809883,16.38068116571552,15.880154811296107,15.872062226746076,16.324882795243056,14.055479309877887,13.95982496049652,16.204100970833846,15.534641913932537,15.05928349746372,16.401074478781595,15.584937326910978,16.110712545126486,14.622364857607552,16.292917086270432,16.400872164167847,16.306674480005487,16.343131573403376,16.23683547533872,16.109498657443982,16.07704739339836,16.16586350883495,16.412039930846888,16.445988323034268,16.408600582413126,16.382259219702775,14.27620455347998,16.434335001282225,16.422115198611678,15.685163986563111,16.056168525259277,16.202280139310087,16.419930200783167,16.43380898328647,16.389623471643304,16.022948465681402,16.371050990100983,15.901033679435187,16.15627379614316,15.214337417442314,15.534803765623538,14.034155349588556,16.400022442790092,16.071463510058837,16.030029477162678,16.191395613090297,16.249824073541518,16.261922487443815,15.786644996820499,16.442225271218504,15.607758415342065,16.432635558526716,16.27705562055237,14.685729794634295,14.691313677973815,16.06701258855632,16.421670106461427,16.288263850154166,14.411391178388246,16.381975979243524,15.478964932228324,16.10391477410446,16.280899598213637,16.42523084366344,16.437410183411234,16.30546059232298,16.429155747170203,16.345802126304886,15.840743924537456,13.503605506488528,16.376108855444752,16.28098052405914,16.233436589827708,16.298055877459703,13.404188105291398,14.795222463596213,15.114798627476933,16.246263336339506,14.778551739423149,16.225708171582426,16.002636078460824,16.398727629262087,16.318125487143778,13.59282625115262,16.36769256751272,15.657689662015757,16.196858107661566,16.371536545173985,16.43854314524824,16.182655621776263,15.609336469329323,11.678484912920057,16.413496596065894,16.432109540530966,16.023434020754404,16.107515974229226,16.421103625542923,15.287372993006342,16.26362193019932,16.393629300995567,15.901033679435187,16.081093685673373,16.306350776623486,16.361663592022946,16.265361835877577,16.154857593846906,16.300159949442712,16.421629643538676,16.404230586756107,16.236228531497467,16.416814555731406,14.296638329468808,14.71899031713492,16.345680737536636,16.426404268423195,16.38343264446253,13.406211251428907,15.667805392703295,16.39892994387584,15.85992334992103,15.980057767566239,16.345802126304886,16.28154700497764,16.18443599037727,16.337264449604604,15.706204706393192,15.492520011349626,13.830100830159525,14.85753536463145],\"type\":\"scatter\"}],                        {\"legend\":{\"bgcolor\":\"#F5F6F9\",\"font\":{\"color\":\"#4D5663\"}},\"paper_bgcolor\":\"#F5F6F9\",\"plot_bgcolor\":\"#F5F6F9\",\"template\":{\"data\":{\"barpolar\":[{\"marker\":{\"line\":{\"color\":\"#E5ECF6\",\"width\":0.5},\"pattern\":{\"fillmode\":\"overlay\",\"size\":10,\"solidity\":0.2}},\"type\":\"barpolar\"}],\"bar\":[{\"error_x\":{\"color\":\"#2a3f5f\"},\"error_y\":{\"color\":\"#2a3f5f\"},\"marker\":{\"line\":{\"color\":\"#E5ECF6\",\"width\":0.5},\"pattern\":{\"fillmode\":\"overlay\",\"size\":10,\"solidity\":0.2}},\"type\":\"bar\"}],\"carpet\":[{\"aaxis\":{\"endlinecolor\":\"#2a3f5f\",\"gridcolor\":\"white\",\"linecolor\":\"white\",\"minorgridcolor\":\"white\",\"startlinecolor\":\"#2a3f5f\"},\"baxis\":{\"endlinecolor\":\"#2a3f5f\",\"gridcolor\":\"white\",\"linecolor\":\"white\",\"minorgridcolor\":\"white\",\"startlinecolor\":\"#2a3f5f\"},\"type\":\"carpet\"}],\"choropleth\":[{\"colorbar\":{\"outlinewidth\":0,\"ticks\":\"\"},\"type\":\"choropleth\"}],\"contourcarpet\":[{\"colorbar\":{\"outlinewidth\":0,\"ticks\":\"\"},\"type\":\"contourcarpet\"}],\"contour\":[{\"colorbar\":{\"outlinewidth\":0,\"ticks\":\"\"},\"colorscale\":[[0.0,\"#0d0887\"],[0.1111111111111111,\"#46039f\"],[0.2222222222222222,\"#7201a8\"],[0.3333333333333333,\"#9c179e\"],[0.4444444444444444,\"#bd3786\"],[0.5555555555555556,\"#d8576b\"],[0.6666666666666666,\"#ed7953\"],[0.7777777777777778,\"#fb9f3a\"],[0.8888888888888888,\"#fdca26\"],[1.0,\"#f0f921\"]],\"type\":\"contour\"}],\"heatmapgl\":[{\"colorbar\":{\"outlinewidth\":0,\"ticks\":\"\"},\"colorscale\":[[0.0,\"#0d0887\"],[0.1111111111111111,\"#46039f\"],[0.2222222222222222,\"#7201a8\"],[0.3333333333333333,\"#9c179e\"],[0.4444444444444444,\"#bd3786\"],[0.5555555555555556,\"#d8576b\"],[0.6666666666666666,\"#ed7953\"],[0.7777777777777778,\"#fb9f3a\"],[0.8888888888888888,\"#fdca26\"],[1.0,\"#f0f921\"]],\"type\":\"heatmapgl\"}],\"heatmap\":[{\"colorbar\":{\"outlinewidth\":0,\"ticks\":\"\"},\"colorscale\":[[0.0,\"#0d0887\"],[0.1111111111111111,\"#46039f\"],[0.2222222222222222,\"#7201a8\"],[0.3333333333333333,\"#9c179e\"],[0.4444444444444444,\"#bd3786\"],[0.5555555555555556,\"#d8576b\"],[0.6666666666666666,\"#ed7953\"],[0.7777777777777778,\"#fb9f3a\"],[0.8888888888888888,\"#fdca26\"],[1.0,\"#f0f921\"]],\"type\":\"heatmap\"}],\"histogram2dcontour\":[{\"colorbar\":{\"outlinewidth\":0,\"ticks\":\"\"},\"colorscale\":[[0.0,\"#0d0887\"],[0.1111111111111111,\"#46039f\"],[0.2222222222222222,\"#7201a8\"],[0.3333333333333333,\"#9c179e\"],[0.4444444444444444,\"#bd3786\"],[0.5555555555555556,\"#d8576b\"],[0.6666666666666666,\"#ed7953\"],[0.7777777777777778,\"#fb9f3a\"],[0.8888888888888888,\"#fdca26\"],[1.0,\"#f0f921\"]],\"type\":\"histogram2dcontour\"}],\"histogram2d\":[{\"colorbar\":{\"outlinewidth\":0,\"ticks\":\"\"},\"colorscale\":[[0.0,\"#0d0887\"],[0.1111111111111111,\"#46039f\"],[0.2222222222222222,\"#7201a8\"],[0.3333333333333333,\"#9c179e\"],[0.4444444444444444,\"#bd3786\"],[0.5555555555555556,\"#d8576b\"],[0.6666666666666666,\"#ed7953\"],[0.7777777777777778,\"#fb9f3a\"],[0.8888888888888888,\"#fdca26\"],[1.0,\"#f0f921\"]],\"type\":\"histogram2d\"}],\"histogram\":[{\"marker\":{\"pattern\":{\"fillmode\":\"overlay\",\"size\":10,\"solidity\":0.2}},\"type\":\"histogram\"}],\"mesh3d\":[{\"colorbar\":{\"outlinewidth\":0,\"ticks\":\"\"},\"type\":\"mesh3d\"}],\"parcoords\":[{\"line\":{\"colorbar\":{\"outlinewidth\":0,\"ticks\":\"\"}},\"type\":\"parcoords\"}],\"pie\":[{\"automargin\":true,\"type\":\"pie\"}],\"scatter3d\":[{\"line\":{\"colorbar\":{\"outlinewidth\":0,\"ticks\":\"\"}},\"marker\":{\"colorbar\":{\"outlinewidth\":0,\"ticks\":\"\"}},\"type\":\"scatter3d\"}],\"scattercarpet\":[{\"marker\":{\"colorbar\":{\"outlinewidth\":0,\"ticks\":\"\"}},\"type\":\"scattercarpet\"}],\"scattergeo\":[{\"marker\":{\"colorbar\":{\"outlinewidth\":0,\"ticks\":\"\"}},\"type\":\"scattergeo\"}],\"scattergl\":[{\"marker\":{\"colorbar\":{\"outlinewidth\":0,\"ticks\":\"\"}},\"type\":\"scattergl\"}],\"scattermapbox\":[{\"marker\":{\"colorbar\":{\"outlinewidth\":0,\"ticks\":\"\"}},\"type\":\"scattermapbox\"}],\"scatterpolargl\":[{\"marker\":{\"colorbar\":{\"outlinewidth\":0,\"ticks\":\"\"}},\"type\":\"scatterpolargl\"}],\"scatterpolar\":[{\"marker\":{\"colorbar\":{\"outlinewidth\":0,\"ticks\":\"\"}},\"type\":\"scatterpolar\"}],\"scatter\":[{\"fillpattern\":{\"fillmode\":\"overlay\",\"size\":10,\"solidity\":0.2},\"type\":\"scatter\"}],\"scatterternary\":[{\"marker\":{\"colorbar\":{\"outlinewidth\":0,\"ticks\":\"\"}},\"type\":\"scatterternary\"}],\"surface\":[{\"colorbar\":{\"outlinewidth\":0,\"ticks\":\"\"},\"colorscale\":[[0.0,\"#0d0887\"],[0.1111111111111111,\"#46039f\"],[0.2222222222222222,\"#7201a8\"],[0.3333333333333333,\"#9c179e\"],[0.4444444444444444,\"#bd3786\"],[0.5555555555555556,\"#d8576b\"],[0.6666666666666666,\"#ed7953\"],[0.7777777777777778,\"#fb9f3a\"],[0.8888888888888888,\"#fdca26\"],[1.0,\"#f0f921\"]],\"type\":\"surface\"}],\"table\":[{\"cells\":{\"fill\":{\"color\":\"#EBF0F8\"},\"line\":{\"color\":\"white\"}},\"header\":{\"fill\":{\"color\":\"#C8D4E3\"},\"line\":{\"color\":\"white\"}},\"type\":\"table\"}]},\"layout\":{\"annotationdefaults\":{\"arrowcolor\":\"#2a3f5f\",\"arrowhead\":0,\"arrowwidth\":1},\"autotypenumbers\":\"strict\",\"coloraxis\":{\"colorbar\":{\"outlinewidth\":0,\"ticks\":\"\"}},\"colorscale\":{\"diverging\":[[0,\"#8e0152\"],[0.1,\"#c51b7d\"],[0.2,\"#de77ae\"],[0.3,\"#f1b6da\"],[0.4,\"#fde0ef\"],[0.5,\"#f7f7f7\"],[0.6,\"#e6f5d0\"],[0.7,\"#b8e186\"],[0.8,\"#7fbc41\"],[0.9,\"#4d9221\"],[1,\"#276419\"]],\"sequential\":[[0.0,\"#0d0887\"],[0.1111111111111111,\"#46039f\"],[0.2222222222222222,\"#7201a8\"],[0.3333333333333333,\"#9c179e\"],[0.4444444444444444,\"#bd3786\"],[0.5555555555555556,\"#d8576b\"],[0.6666666666666666,\"#ed7953\"],[0.7777777777777778,\"#fb9f3a\"],[0.8888888888888888,\"#fdca26\"],[1.0,\"#f0f921\"]],\"sequentialminus\":[[0.0,\"#0d0887\"],[0.1111111111111111,\"#46039f\"],[0.2222222222222222,\"#7201a8\"],[0.3333333333333333,\"#9c179e\"],[0.4444444444444444,\"#bd3786\"],[0.5555555555555556,\"#d8576b\"],[0.6666666666666666,\"#ed7953\"],[0.7777777777777778,\"#fb9f3a\"],[0.8888888888888888,\"#fdca26\"],[1.0,\"#f0f921\"]]},\"colorway\":[\"#636efa\",\"#EF553B\",\"#00cc96\",\"#ab63fa\",\"#FFA15A\",\"#19d3f3\",\"#FF6692\",\"#B6E880\",\"#FF97FF\",\"#FECB52\"],\"font\":{\"color\":\"#2a3f5f\"},\"geo\":{\"bgcolor\":\"white\",\"lakecolor\":\"white\",\"landcolor\":\"#E5ECF6\",\"showlakes\":true,\"showland\":true,\"subunitcolor\":\"white\"},\"hoverlabel\":{\"align\":\"left\"},\"hovermode\":\"closest\",\"mapbox\":{\"style\":\"light\"},\"paper_bgcolor\":\"white\",\"plot_bgcolor\":\"#E5ECF6\",\"polar\":{\"angularaxis\":{\"gridcolor\":\"white\",\"linecolor\":\"white\",\"ticks\":\"\"},\"bgcolor\":\"#E5ECF6\",\"radialaxis\":{\"gridcolor\":\"white\",\"linecolor\":\"white\",\"ticks\":\"\"}},\"scene\":{\"xaxis\":{\"backgroundcolor\":\"#E5ECF6\",\"gridcolor\":\"white\",\"gridwidth\":2,\"linecolor\":\"white\",\"showbackground\":true,\"ticks\":\"\",\"zerolinecolor\":\"white\"},\"yaxis\":{\"backgroundcolor\":\"#E5ECF6\",\"gridcolor\":\"white\",\"gridwidth\":2,\"linecolor\":\"white\",\"showbackground\":true,\"ticks\":\"\",\"zerolinecolor\":\"white\"},\"zaxis\":{\"backgroundcolor\":\"#E5ECF6\",\"gridcolor\":\"white\",\"gridwidth\":2,\"linecolor\":\"white\",\"showbackground\":true,\"ticks\":\"\",\"zerolinecolor\":\"white\"}},\"shapedefaults\":{\"line\":{\"color\":\"#2a3f5f\"}},\"ternary\":{\"aaxis\":{\"gridcolor\":\"white\",\"linecolor\":\"white\",\"ticks\":\"\"},\"baxis\":{\"gridcolor\":\"white\",\"linecolor\":\"white\",\"ticks\":\"\"},\"bgcolor\":\"#E5ECF6\",\"caxis\":{\"gridcolor\":\"white\",\"linecolor\":\"white\",\"ticks\":\"\"}},\"title\":{\"x\":0.05},\"xaxis\":{\"automargin\":true,\"gridcolor\":\"white\",\"linecolor\":\"white\",\"ticks\":\"\",\"title\":{\"standoff\":15},\"zerolinecolor\":\"white\",\"zerolinewidth\":2},\"yaxis\":{\"automargin\":true,\"gridcolor\":\"white\",\"linecolor\":\"white\",\"ticks\":\"\",\"title\":{\"standoff\":15},\"zerolinecolor\":\"white\",\"zerolinewidth\":2}}},\"title\":{\"font\":{\"color\":\"#4D5663\"}},\"xaxis\":{\"gridcolor\":\"#E1E5ED\",\"showgrid\":true,\"tickfont\":{\"color\":\"#4D5663\"},\"title\":{\"font\":{\"color\":\"#4D5663\"},\"text\":\"\"},\"zerolinecolor\":\"#E1E5ED\"},\"yaxis\":{\"gridcolor\":\"#E1E5ED\",\"showgrid\":true,\"tickfont\":{\"color\":\"#4D5663\"},\"title\":{\"font\":{\"color\":\"#4D5663\"},\"text\":\"\"},\"zerolinecolor\":\"#E1E5ED\"}},                        {\"showLink\": true, \"linkText\": \"Export to plot.ly\", \"plotlyServerURL\": \"https://plot.ly\", \"responsive\": true}                    ).then(function(){\n",
       "                            \n",
       "var gd = document.getElementById('7bb7f2aa-d399-4e30-b1c9-568acac4d15d');\n",
       "var x = new MutationObserver(function (mutations, observer) {{\n",
       "        var display = window.getComputedStyle(gd).display;\n",
       "        if (!display || display === 'none') {{\n",
       "            console.log([gd, 'removed!']);\n",
       "            Plotly.purge(gd);\n",
       "            observer.disconnect();\n",
       "        }}\n",
       "}});\n",
       "\n",
       "// Listen for the removal of the full notebook cells\n",
       "var notebookContainer = gd.closest('#notebook-container');\n",
       "if (notebookContainer) {{\n",
       "    x.observe(notebookContainer, {childList: true});\n",
       "}}\n",
       "\n",
       "// Listen for the clearing of the current output cell\n",
       "var outputEl = gd.closest('.output');\n",
       "if (outputEl) {{\n",
       "    x.observe(outputEl, {childList: true});\n",
       "}}\n",
       "\n",
       "                        })                };                });            </script>        </div>"
      ]
     },
     "metadata": {},
     "output_type": "display_data"
    }
   ],
   "source": [
    "# wealth-suicide rate relation\n",
    "dfN.iplot(kind='scatter', x='GDPpc', y='suicide',mode='markers', bestfit=True, bestfit_colors=['blue'])"
   ]
  },
  {
   "cell_type": "code",
   "execution_count": 131,
   "id": "2060720a",
   "metadata": {},
   "outputs": [
    {
     "data": {
      "text/plain": [
       "<AxesSubplot:>"
      ]
     },
     "execution_count": 131,
     "metadata": {},
     "output_type": "execute_result"
    },
    {
     "data": {
      "image/png": "[encoded data removed]",
      "text/plain": [
       "<Figure size 640x480 with 2 Axes>"
      ]
     },
     "metadata": {},
     "output_type": "display_data"
    }
   ],
   "source": [
    "# relation between features of our table\n",
    "\n",
    "sns.heatmap(dfN.corr(),annot=True)"
   ]
  },
  {
   "cell_type": "code",
   "execution_count": 19,
   "id": "d2ea215a",
   "metadata": {},
   "outputs": [],
   "source": [
    "X = dfN[['GDPpc','happiness']]\n",
    "y = dfN['suicide']\n",
    "\n",
    "from sklearn.model_selection import train_test_split\n",
    "X_train, X_test, y_train, y_test = train_test_split(X,y,test_size=0.3)"
   ]
  },
  {
   "cell_type": "code",
   "execution_count": 20,
   "id": "e632128d",
   "metadata": {},
   "outputs": [
    {
     "data": {
      "text/plain": [
       "LinearRegression()"
      ]
     },
     "execution_count": 20,
     "metadata": {},
     "output_type": "execute_result"
    }
   ],
   "source": [
    "from sklearn.linear_model import LinearRegression\n",
    "lm = LinearRegression()\n",
    "lm.fit(X_train,y_train)"
   ]
  },
  {
   "cell_type": "code",
   "execution_count": 21,
   "id": "549cc2d4",
   "metadata": {},
   "outputs": [
    {
     "data": {
      "text/plain": [
       "4.301499866256551"
      ]
     },
     "execution_count": 21,
     "metadata": {},
     "output_type": "execute_result"
    }
   ],
   "source": [
    "prediction = lm.predict(X_test)\n",
    "from sklearn.metrics import mean_squared_error\n",
    "RMSE = np.sqrt(mean_squared_error(y_test,prediction))\n",
    "RMSE"
   ]
  },
  {
   "cell_type": "code",
   "execution_count": 33,
   "id": "1d8a2b19",
   "metadata": {},
   "outputs": [
    {
     "data": {
      "text/plain": [
       "<seaborn.axisgrid.FacetGrid at 0x7fe1fe721fa0>"
      ]
     },
     "execution_count": 33,
     "metadata": {},
     "output_type": "execute_result"
    },
    {
     "data": {
      "image/png": "[encoded data removed]",
      "text/plain": [
       "<Figure size 500x500 with 1 Axes>"
      ]
     },
     "metadata": {},
     "output_type": "display_data"
    }
   ],
   "source": [
    "# see that our distribution is not a healthy one, we are a bit off mark\n",
    "sns.displot((y_test-prediction),bins=20)"
   ]
  },
  {
   "cell_type": "code",
   "execution_count": 34,
   "id": "2767fccf",
   "metadata": {},
   "outputs": [
    {
     "data": {
      "text/plain": [
       "<matplotlib.collections.PathCollection at 0x7fe1feade5b0>"
      ]
     },
     "execution_count": 34,
     "metadata": {},
     "output_type": "execute_result"
    },
    {
     "data": {
      "image/png": "[encoded data removed]",
      "text/plain": [
       "<Figure size 640x480 with 1 Axes>"
      ]
     },
     "metadata": {},
     "output_type": "display_data"
    }
   ],
   "source": [
    "# seems like our regression failed\n",
    "plt.scatter(y_test,prediction)"
   ]
  }
 ],
 "metadata": {
  "kernelspec": {
   "display_name": "Python 3 (ipykernel)",
   "language": "python",
   "name": "python3"
  },
  "language_info": {
   "codemirror_mode": {
    "name": "ipython",
    "version": 3
   },
   "file_extension": ".py",
   "mimetype": "text/x-python",
   "name": "python",
   "nbconvert_exporter": "python",
   "pygments_lexer": "ipython3",
   "version": "3.9.13"
  }
 },
 "nbformat": 4,
 "nbformat_minor": 5
}
